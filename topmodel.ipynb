{
 "cells": [
  {
   "cell_type": "code",
   "execution_count": 1,
   "metadata": {},
   "outputs": [],
   "source": [
    "import numpy as np\n",
    "import pandas as pd\n",
    "from sklearn.datasets import fetch_20newsgroups\n",
    "from sklearn import decomposition\n",
    "from scipy import linalg\n",
    "import matplotlib.pyplot as plt\n",
    "from sklearn.feature_extraction.text import CountVectorizer, TfidfTransformer\n",
    "%matplotlib inline\n",
    "np.set_printoptions(suppress=True)"
   ]
  },
  {
   "cell_type": "code",
   "execution_count": 2,
   "metadata": {},
   "outputs": [],
   "source": [
    "categories = None  # ['alt.atheism', 'talk.religion.misc', 'comp.graphics', 'sci.space']\n",
    "remove = ('headers', 'footers', 'quotes')\n",
    "newsgroups_train = fetch_20newsgroups(subset='train', categories=categories, remove=remove)\n",
    "newsgroups_test = fetch_20newsgroups(subset='test', categories=categories, remove=remove)"
   ]
  },
  {
   "cell_type": "code",
   "execution_count": 3,
   "metadata": {},
   "outputs": [
    {
     "name": "stdout",
     "output_type": "stream",
     "text": [
      "11314 documents\n",
      "9764 useful documents\n",
      "2246 terms in vocab\n"
     ]
    }
   ],
   "source": [
    "TOKEN_PAT = r'\\b[^(\\W|\\d|_)]{1,}\\w\\w+\\b'\n",
    "cnt_vecr = CountVectorizer(stop_words='english', min_df=0.005, max_df=0.2, token_pattern=TOKEN_PAT)\n",
    "dtm = cnt_vecr.fit_transform(newsgroups_train.data)\n",
    "print('{} documents'.format(dtm.shape[0]))\n",
    "dtm = dtm[np.asarray(dtm.sum(axis=1)).squeeze() > 6, :]  # no pointless docs in training\n",
    "print('{} useful documents'.format(dtm.shape[0]))\n",
    "\n",
    "vectors_tfidf = TfidfTransformer().fit_transform(dtm)\n",
    "vocab = cnt_vecr.get_feature_names()\n",
    "P_term = dtm.sum(axis=0) / dtm.sum()\n",
    "print('{} terms in vocab'.format(len(vocab)))\n",
    "\n",
    "# vectorizer_tfidf = TfidfVectorizer(stop_words='english', min_df=0.001, max_df=0.5)\n",
    "# vectors_tfidf = vectorizer_tfidf.fit_transform(newsgroups_train.data) # (documents, vocab)\n",
    "# vocab = np.array(vectorizer_tfidf.get_feature_names())"
   ]
  },
  {
   "cell_type": "code",
   "execution_count": 50,
   "metadata": {},
   "outputs": [],
   "source": [
    "num_top_words=15\n",
    "\n",
    "# there is a mistake here for lbd != 1\n",
    "def show_topics(topic_term_mat, P_term=P_term, vocab=vocab, lbd=1):\n",
    "    # use weighting scheme from pyldavis\n",
    "    a = np.asarray(\n",
    "        lbd * topic_term_mat + (1 - lbd) * np.multiply(topic_term_mat, 1 / P_term.reshape(1, -1)))\n",
    "    top_words = lambda t: [vocab[i] for i in np.argsort(t)[:-num_top_words-1:-1]]\n",
    "    topic_words = [top_words(t) for t in a]\n",
    "    topic_list = [' '.join(t) for t in topic_words]\n",
    "    for i, t in enumerate(topic_list):\n",
    "        print('{:2d}: {}'.format(i, t))\n",
    "    return topic_list"
   ]
  },
  {
   "cell_type": "markdown",
   "metadata": {},
   "source": [
    "## sklearn NMF"
   ]
  },
  {
   "cell_type": "code",
   "execution_count": 5,
   "metadata": {},
   "outputs": [
    {
     "name": "stdout",
     "output_type": "stream",
     "text": [
      "CPU times: user 1.87 s, sys: 2.89 s, total: 4.76 s\n",
      "Wall time: 1.28 s\n"
     ]
    }
   ],
   "source": [
    "m,n=vectors_tfidf.shape\n",
    "d=20  # num topics\n",
    "\n",
    "# beta_loss: 1 = kullback-leibler, 2 = frobenius-norm\n",
    "clf = decomposition.NMF(n_components=d, random_state=1, solver='mu', beta_loss=2)\n",
    "\n",
    "%time W1 = clf.fit_transform(vectors_tfidf)\n",
    "H1 = clf.components_"
   ]
  },
  {
   "cell_type": "code",
   "execution_count": 29,
   "metadata": {},
   "outputs": [
    {
     "name": "stdout",
     "output_type": "stream",
     "text": [
      " 0: crazy reaction funny sick bother curious shit huh brain damn hmmm joke admit stupid thread\n",
      " 1: windows microsoft dos desktop printer setup sys utilities utility thanx mouse font fonts characters drivers\n",
      " 2: heaven sin christ lord eternal scripture god jesus faith bible doctrine mary christians christianity spirit\n",
      " 3: dsl n3jxp chastity geb shameful cadre intellect skepticism surrender pitt gordon banks soon patients brain\n",
      " 4: pitching scored playoffs playoff players fans baseball rangers nhl teams games game score hockey team\n",
      " 5: ide boot drive drives floppy scsi controller meg motherboard external quadra isa brand disk internal\n",
      " 6: advance thanks appreciate appreciated replies hello greatly mail wondering netters mailing responses reply anybody looking\n",
      " 7: escrow encrypted phones clipper keys crypto nsa key chip cellular scheme algorithm encryption session des\n",
      " 8: argic serdar armenia genocide turks armenians armenian turkey turkish muslim soviet bodies nazi region destroyed\n",
      " 9: card diamond video vga slot cards isa monitor cache bus motherboard drivers ports monitors colors\n",
      "10: sale shipping manuals offer condition brand stereo asking pair excellent selling price items sony super\n",
      "11: car honda dealer cars rear miles engine owner paint mile driving wheel accident oil bike\n",
      "12: window button manager root x11r5 terminal client corner application motif font focus specified display default\n",
      "13: shuttle orbit nasa moon space solar launch station mission satellite rocket flight billion gov earth\n",
      "14: indiana gmt zip virginia ohio corp apr uunet adams uucp edu com andrew keith scott\n",
      "15: arabs israel israeli arab adam occupied peace jews civilians attacks jewish land soldiers resistance troops\n",
      "16: zip files file convert formats directory format gif utility colors postscript bat bytes location header\n",
      "17: motif widget use fonts voltage familiar code drawing documentation frame testing easier frequency practical signals\n",
      "18: guns gun amendment crimes criminals violent batf firearms citizen laws criminal crime waco constitution weapon\n",
      "19: luck good motorola bikes quality modem pitching miss intel recommend edition planning defensive impression ride\n"
     ]
    }
   ],
   "source": [
    "_ = show_topics(H1)"
   ]
  },
  {
   "cell_type": "markdown",
   "metadata": {},
   "source": [
    "## anchor word NMF"
   ]
  },
  {
   "cell_type": "code",
   "execution_count": 7,
   "metadata": {},
   "outputs": [],
   "source": [
    "from anchors import findAnchors\n",
    "from sklearn.decomposition.nmf import non_negative_factorization\n",
    "from sklearn.preprocessing import normalize\n",
    "from scipy import sparse\n",
    "import time"
   ]
  },
  {
   "cell_type": "code",
   "execution_count": null,
   "metadata": {},
   "outputs": [],
   "source": []
  },
  {
   "cell_type": "code",
   "execution_count": 8,
   "metadata": {},
   "outputs": [],
   "source": [
    "class Params:\n",
    "    def __init__(self, filename):\n",
    "        self.log_prefix = None\n",
    "        self.checkpoint_prefix = None\n",
    "        self.seed = int(time.time())\n",
    "\n",
    "        with open(filename, \"rt\") as f:\n",
    "            for l in f:\n",
    "                if l == \"\\n\" or l[0] == \"#\":\n",
    "                    continue\n",
    "                l = l.strip()\n",
    "                l = l.split(\"=\")\n",
    "                if l[0] == \"log_prefix\":\n",
    "                    self.log_prefix = l[1]\n",
    "                elif l[0] == \"max_threads\":\n",
    "                    self.max_threads = int(l[1])\n",
    "                elif l[0] == \"eps\":\n",
    "                    self.eps = float(l[1])\n",
    "                elif l[0] == \"checkpoint_prefix\":\n",
    "                    self.checkpoint_prefix = l[1]\n",
    "                elif l[0] == \"new_dim\":\n",
    "                    self.new_dim = int(l[1])\n",
    "                elif l[0] == \"seed\":\n",
    "                    self.seed = int(l[1])\n",
    "                elif l[0] == \"anchor_thresh\":\n",
    "                    self.anchor_thresh = int(l[1])\n",
    "                elif l[0] == \"top_words\":\n",
    "                    self.top_words = int(l[1])\n",
    "\n",
    "params = Params('settings.example')"
   ]
  },
  {
   "cell_type": "code",
   "execution_count": 9,
   "metadata": {},
   "outputs": [
    {
     "name": "stdout",
     "output_type": "stream",
     "text": [
      "2246 words / 9764 documents\n",
      "identifying candidate anchors\n",
      "1214 candidates\n"
     ]
    }
   ],
   "source": [
    "M = dtm.T.tocsc().astype(float)\n",
    "print('{} words / {} documents'.format(*M.shape))\n",
    "\n",
    "print(\"identifying candidate anchors\")\n",
    "candidate_anchors = []\n",
    "\n",
    "# only accept anchors that appear in a significant number of docs\n",
    "for i in range(M.shape[0]):\n",
    "    if len(np.nonzero(M[i, :])[1]) > params.anchor_thresh:\n",
    "        candidate_anchors.append(i)\n",
    "\n",
    "print(len(candidate_anchors), \"candidates\")"
   ]
  },
  {
   "cell_type": "code",
   "execution_count": 39,
   "metadata": {},
   "outputs": [
    {
     "name": "stdout",
     "output_type": "stream",
     "text": [
      "Q sum is 0.9999999999999996\n"
     ]
    }
   ],
   "source": [
    "# forms Q matrix from document-word matrix\n",
    "\n",
    "# Qorg = generate_Q_matrix(M)\n",
    "vocab_sz = M.shape[0]\n",
    "doclengths = np.array(M.sum(axis=0))\n",
    "H = M.multiply(1 / doclengths)\n",
    "Q = H.dot(H.T)\n",
    "Q = Q - sparse.diags(Q.diagonal())\n",
    "Q = Q.multiply(1 / Q.sum())  #.toarray()\n",
    "\n",
    "# check that Q sum is 1 or close to it\n",
    "print(\"Q sum is\", Q.sum())\n",
    "V = Q.shape[0]\n",
    "\n",
    "myQ = Q\n",
    "Q = Q.asarray"
   ]
  },
  {
   "cell_type": "code",
   "execution_count": 41,
   "metadata": {},
   "outputs": [
    {
     "name": "stdout",
     "output_type": "stream",
     "text": [
      "('Sum of entries in Q is ', 0.9999999999999797)\n",
      "('Multiplying Q took ', '0.7155148983001709', 'seconds')\n"
     ]
    }
   ],
   "source": [
    "from Q_matrix import generate_Q_matrix\n",
    "Q = generate_Q_matrix(M)\n",
    "# Q = np.clip(Q, 0, None)\n",
    "# Q = sparse.csr_matrix(Q)"
   ]
  },
  {
   "cell_type": "code",
   "execution_count": 11,
   "metadata": {},
   "outputs": [
    {
     "data": {
      "text/plain": [
       "0"
      ]
     },
     "execution_count": 11,
     "metadata": {},
     "output_type": "execute_result"
    }
   ],
   "source": [
    "(Q<0).sum()"
   ]
  },
  {
   "cell_type": "code",
   "execution_count": 40,
   "metadata": {},
   "outputs": [
    {
     "data": {
      "text/plain": [
       "0"
      ]
     },
     "execution_count": 40,
     "metadata": {},
     "output_type": "execute_result"
    }
   ],
   "source": [
    "Q = np.clip(Q, 0, None)"
   ]
  },
  {
   "cell_type": "code",
   "execution_count": 12,
   "metadata": {},
   "outputs": [
    {
     "name": "stdout",
     "output_type": "stream",
     "text": [
      "anchors are:\n",
      "0 air\n",
      "1 banks\n",
      "2 scsi\n",
      "3 period\n",
      "4 ground\n",
      "5 speaking\n",
      "6 archive\n",
      "7 germany\n",
      "8 picture\n",
      "9 mouse\n",
      "10 games\n",
      "11 anonymous\n",
      "12 lord\n",
      "13 die\n",
      "14 motif\n",
      "15 modem\n",
      "16 keys\n",
      "17 pub\n",
      "18 showed\n",
      "19 water\n"
     ]
    }
   ],
   "source": [
    "n_topics = 20\n",
    "assert n_topics < len(candidate_anchors)\n",
    "\n",
    "\n",
    "# find anchors- this step uses a random projection\n",
    "# into low dimensional space\n",
    "anchors = findAnchors(Q, n_topics, params, candidate_anchors)\n",
    "print(\"anchors are:\")\n",
    "for i, a in enumerate(anchors):\n",
    "    print(i, vocab[a])"
   ]
  },
  {
   "cell_type": "code",
   "execution_count": 33,
   "metadata": {},
   "outputs": [
    {
     "name": "stdout",
     "output_type": "stream",
     "text": [
      "begin threaded recovery with 3 processors\n",
      "0\t107\t0.16196031151401147\n",
      "1000\t465\t0.2241042430421848\n",
      "2000\t77\t0.2699375943260878\n"
     ]
    }
   ],
   "source": [
    "from fastRecover import nonNegativeRecover\n",
    "loss = 'KL'  # 'KL' / 'L2'\n",
    "A_org, topic_likelihoods = nonNegativeRecover(Q, anchors, loss, params)"
   ]
  },
  {
   "cell_type": "code",
   "execution_count": 48,
   "metadata": {},
   "outputs": [
    {
     "name": "stdout",
     "output_type": "stream",
     "text": [
      " 0: air max meg kit controlled stock gas pair tank aid flight batf visit miles solar\n",
      " 1: chastity n3jxp geb banks dsl shameful skepticism intellect cadre gordon pitt surrender soon patients hospital\n",
      " 2: scsi ide controller isa drives bus slower drive cache motherboard rom floppy slot quadra faster\n",
      " 3: period shots philadelphia vancouver van angeles los rangers wings pittsburgh scoring detroit patrick flames bay\n",
      " 4: ground wire connected mil signal lay button grounds jump sub signals ride voltage fly gain\n",
      " 5: speaking berkeley objective morality committee politics israel israeli existence french language moral scripture funny represent\n",
      " 6: archive speaker rec articles documents site server signature location sci stored shuttle vision option newsgroups\n",
      " 7: germany nazi turks armenia armenian german argic serdar turkish armenians genocide april usa turkey muslim\n",
      " 8: picture color colors roger gif paint records pictures learning formats black image stories values eyes\n",
      " 9: mouse sys keyboard desktop focus button dos microsoft driver modes bat default vga disks windows\n",
      "10: games season pitching team teams career defensive playoff fans hall game staff league score winning\n",
      "11: anonymous services postscript map contain formats format frame complex track policies gif march sample satellite\n",
      "12: lord sin christ jesus god heaven scripture bible father christians holy doctrine church spirit faith\n",
      "13: die civilians punishment jews killed eternal stick arabs drugs death atheists killing officer arab war\n",
      "14: motif widget x11r5 client window application functions core manager resource server objects font doug warning\n",
      "15: modem port fax external printer manuals portable internal ports remote offers compatible intel connect manual\n",
      "16: keys escrow secure crypto key encrypted secret encryption nsa clipper des scheme algorithm agencies phones\n",
      "17: pub zip directory ftp indiana updated sites site fonts host gif files images latest file\n",
      "18: showed argic serdar koresh compound bodies fbi waco explanation batf theory damn favorite director weren\n",
      "19: water nuclear heat fuel hot stopped oil cool closed engine stage profit energy food cold\n"
     ]
    }
   ],
   "source": [
    "_ = show_topics(A_org.T, lbd=1)"
   ]
  },
  {
   "cell_type": "code",
   "execution_count": 35,
   "metadata": {},
   "outputs": [
    {
     "name": "stdout",
     "output_type": "stream",
     "text": [
      "CPU times: user 8.11 s, sys: 9.65 s, total: 17.8 s\n",
      "Wall time: 5.03 s\n",
      "computing C took 40 iterations\n"
     ]
    }
   ],
   "source": [
    "# recover topics\n",
    "# A, topic_likelihoods = nonNegativeRecover(Q, anchors, loss, params)\n",
    "\n",
    "P_w = Q.sum(axis=1)\n",
    "Q_bar = normalize(Q, axis=1, norm='l1')\n",
    "Q_anchors = Q_bar[anchors, :]  #.toarray()\n",
    "\n",
    "# compute C such that C * Q_anchors = Q_bar\n",
    "# all rowsums of this matrix product are 1, for Q_* by construction, for C it follows\n",
    "#   Q_anchor\n",
    "# C Q_bar\n",
    "%time C, _, n_iter = non_negative_factorization(Q_bar, W=None, H=Q_anchors, n_components=n_topics,\\\n",
    "                                                update_H=False, solver='mu', beta_loss=1)\n",
    "\n",
    "C_n = normalize(C, axis=1, norm='l1')\n",
    "\n",
    "print('computing C took {} iterations'.format(n_iter))"
   ]
  },
  {
   "cell_type": "code",
   "execution_count": 36,
   "metadata": {},
   "outputs": [],
   "source": [
    "A_prime = np.multiply(P_w.reshape(-1, 1), C)\n",
    "A = normalize(A_prime, axis=0, norm='l1')"
   ]
  },
  {
   "cell_type": "code",
   "execution_count": 38,
   "metadata": {},
   "outputs": [
    {
     "name": "stdout",
     "output_type": "stream",
     "text": [
      " 0: air max kit meg stock gas pair controlled tank flight aid miles solar visit seat\n",
      " 1: dsl chastity n3jxp geb banks shameful skepticism intellect cadre gordon pitt surrender soon patients hospital\n",
      " 2: scsi ide controller isa slower drives quadra bus motherboard drive cache slot rom floppy boot\n",
      " 3: period shots philadelphia vancouver van angeles los rangers wings pittsburgh scoring detroit patrick flames bay\n",
      " 4: ground wire connected signal mil grounds voltage button lay jump sub signals floor fly panel\n",
      " 5: speaking berkeley morality objective committee politics israel israeli french existence funny moral aspects language absolute\n",
      " 6: archive rec speaker articles documents site server signature location shuttle stored vision sci option newsgroups\n",
      " 7: germany nazi turks armenia armenian serdar argic armenians german genocide turkish turkey muslim april usa\n",
      " 8: picture roger color colors paint records learning gif pictures stories visible eyes black image values\n",
      " 9: mouse sys keyboard desktop button focus bat dos microsoft driver modes default vga diamond disks\n",
      "10: games pitching season playoff teams scored nhl team fans score career defensive players playoffs league\n",
      "11: anonymous services postscript map formats frame contain format solar complex policies track gif satellite abuse\n",
      "12: lord christ sin jesus scripture heaven god christians father bible holy doctrine church faith spirit\n",
      "13: die punishment civilians jews arabs atheists killed drugs eternal stick killing death officer arab innocent\n",
      "14: motif widget x11r5 client window application functions core resource manager font displays doug server objects\n",
      "15: modem port fax manuals external printer portable ports internal intel remote offers compatible connect manual\n",
      "16: keys escrow crypto encrypted secure encryption nsa key secret clipper des phones scheme algorithm enforcement\n",
      "17: pub zip directory ftp indiana updated sites fonts site gif host images files ray misc\n",
      "18: showed koresh argic serdar fbi compound batf bodies damn waco favorite explanation studies weren director\n",
      "19: water nuclear heat fuel hot oil stopped cool engine energy closed stage profit food extreme\n"
     ]
    }
   ],
   "source": [
    "_ = show_topics(A.T, lbd=1)"
   ]
  },
  {
   "cell_type": "code",
   "execution_count": 292,
   "metadata": {},
   "outputs": [
    {
     "name": "stdout",
     "output_type": "stream",
     "text": [
      "CPU times: user 22.5 s, sys: 11.1 s, total: 33.6 s\n",
      "Wall time: 17 s\n",
      "computing W took 70 iterations\n"
     ]
    }
   ],
   "source": [
    "# product matrix M.T is document term matrix\n",
    "#      A.T\n",
    "# W.T  M.T\n",
    "%time W_T, _, n_iter = non_negative_factorization(M.T, W=None, H=A.T, n_components=n_topics,\\\n",
    "                                                  update_H=False, solver='mu', beta_loss=1)\n",
    "W = W_T.T\n",
    "\n",
    "print('computing W took {} iterations'.format(n_iter))"
   ]
  },
  {
   "cell_type": "code",
   "execution_count": 285,
   "metadata": {},
   "outputs": [
    {
     "data": {
      "text/plain": [
       "0.0004845839906142422"
      ]
     },
     "execution_count": 285,
     "metadata": {},
     "output_type": "execute_result"
    }
   ],
   "source": [
    "np.mean(np.abs(C.dot(Q_anchors) - Q_bar))\n",
    "# Q_bar"
   ]
  },
  {
   "cell_type": "code",
   "execution_count": 299,
   "metadata": {},
   "outputs": [
    {
     "data": {
      "text/plain": [
       "array([1., 1., 1., ..., 1., 1., 1.])"
      ]
     },
     "execution_count": 299,
     "metadata": {},
     "output_type": "execute_result"
    }
   ],
   "source": [
    "np.mean(np.abs(C_n.dot(Q_anchors) - Q_bar))\n",
    "C.sum(1)"
   ]
  },
  {
   "cell_type": "code",
   "execution_count": null,
   "metadata": {},
   "outputs": [],
   "source": []
  },
  {
   "cell_type": "code",
   "execution_count": 61,
   "metadata": {},
   "outputs": [
    {
     "data": {
      "text/plain": [
       "['stock kit pair air controlled visit tank dealers seat mile sport filled meg travel aid',\n",
       " 'dsl chastity n3jxp shameful geb cadre intellect skepticism surrender gordon pitt banks hospital fits brain',\n",
       " 'slower quadra speeds isa slot boot specs manufacturer cache ide experts affect motherboard figures processor',\n",
       " 'patrick adams shots philadelphia wings union scoring rangers vancouver continues bay angeles brown flames friday',\n",
       " 'jump grounds sub lay signals huh fly seat connected voltage regularly mil ground travel metal',\n",
       " 'speaking berkeley morality funny hide directed apparent aspects represent politics discussing french principle sides occupied',\n",
       " 'archive speaker signature stored vision rec documents algorithms header indiana july virginia location instructions joke',\n",
       " 'germany serdar argic nazi shut july pure eastern honda readers economy australia spending occupied reached',\n",
       " 'picture roger paint records printed stored disclaimer jack reader fly learning remains opening visible chances',\n",
       " 'desktop bat focus mouse diamond sys button newer modes installation loaded depth monitors microsoft solve',\n",
       " 'playoff finish pitching scored staff defensive score percentage career playoffs offensive finished winning hall remaining',\n",
       " 'anonymous services reader suggestion map policies suggests contain implemented johnson extension complex frame abuse sub',\n",
       " 'doctrine taught notion biblical teaching lord scripture understood rely essential phrase shit teach importance establish',\n",
       " 'punishment die occurred civilians justify officer contained suffering wars arabs ignorant irrelevant blame shoot intent',\n",
       " 'core creating displays doug x11r5 generated characters specified client update drawing shared warning motif thanx',\n",
       " 'manuals express modem intel ports portable specs thanx terminal pair update motorola macintosh connect purchased',\n",
       " 'phones cellular crypto warrant conversation encrypted scheme escrow exchange reverse similarly signature establish houses presumably',\n",
       " 'indiana zip updated adding referred utilities virginia holds ohio desktop utility location johnson printed specified',\n",
       " 'showed publicly argic serdar waco favorite apparent huh william indiana assumed compound damn explanation sick',\n",
       " 'cool fuel heat profit improvement extreme nuclear harder pulled water stage circumstances odd anymore stopped']"
      ]
     },
     "execution_count": 61,
     "metadata": {},
     "output_type": "execute_result"
    }
   ],
   "source": [
    "show_topics(A.T)"
   ]
  },
  {
   "cell_type": "code",
   "execution_count": 288,
   "metadata": {},
   "outputs": [
    {
     "data": {
      "text/plain": [
       "['think people time good did way really make say right going want said things thing',\n",
       " 'windows dos running files file version program problem run thanks using microsoft drivers disk screen',\n",
       " 'god jesus bible christ faith christian christians believe church sin lord truth does life heaven',\n",
       " 'pitt geb cadre dsl n3jxp chastity shameful intellect skepticism surrender gordon banks soon edu patients',\n",
       " 'game team games year season players hockey play win league teams player nhl baseball toronto',\n",
       " 'drive drives hard disk floppy ide controller boot cable meg internal apple power computer switch',\n",
       " 'thanks mail advance looking info information email address does send interested post list appreciated anybody',\n",
       " 'key chip keys clipper encryption escrow algorithm bit nsa des public security secure chips encrypted',\n",
       " 'armenian armenians turkish people armenia turkey turks genocide soviet russian greek muslim argic serdar government',\n",
       " 'card video monitor cards drivers vga bus driver does color ram graphics mode diamond board',\n",
       " 'sale offer new shipping condition price asking excellent sell best interested email includes original used',\n",
       " 'car cars bike engine dealer miles driving honda good rear driver oil insurance owner buy',\n",
       " 'window problem application motif server display manager using widget screen x11r5 set program code running',\n",
       " 'space nasa shuttle launch orbit earth station moon program data gov satellite mission research solar',\n",
       " 'edu com university internet article ftp apr email pub mit 1993 david sun news server',\n",
       " 'israel israeli jews arab arabs jewish peace war state adam land attacks anti rights occupied',\n",
       " 'government gun law guns people state laws federal rights crime police amendment control weapons firearms',\n",
       " 'file files ftp program image format directory graphics zip available gif pub code does convert',\n",
       " 'use modem port using software mac used data serial com work good power printer mouse',\n",
       " 'scsi ide bus controller bit isa mac devices interface transfer fast max data chip performance']"
      ]
     },
     "execution_count": 288,
     "metadata": {},
     "output_type": "execute_result"
    }
   ],
   "source": [
    "show_topics(H1, lbd=1)"
   ]
  },
  {
   "cell_type": "code",
   "execution_count": 54,
   "metadata": {},
   "outputs": [
    {
     "data": {
      "text/plain": [
       "(1, 2246)"
      ]
     },
     "execution_count": 54,
     "metadata": {},
     "output_type": "execute_result"
    }
   ],
   "source": [
    "P_term.shape"
   ]
  },
  {
   "cell_type": "markdown",
   "metadata": {},
   "source": [
    "## pytorch nmf"
   ]
  },
  {
   "cell_type": "code",
   "execution_count": 698,
   "metadata": {},
   "outputs": [
    {
     "data": {
      "text/plain": [
       "2034"
      ]
     },
     "execution_count": 698,
     "metadata": {},
     "output_type": "execute_result"
    }
   ],
   "source": [
    "len(newsgroups_train.data)"
   ]
  },
  {
   "cell_type": "code",
   "execution_count": 719,
   "metadata": {},
   "outputs": [
    {
     "data": {
      "text/html": [
       "<div>\n",
       "<style scoped>\n",
       "    .dataframe tbody tr th:only-of-type {\n",
       "        vertical-align: middle;\n",
       "    }\n",
       "\n",
       "    .dataframe tbody tr th {\n",
       "        vertical-align: top;\n",
       "    }\n",
       "\n",
       "    .dataframe thead th {\n",
       "        text-align: right;\n",
       "    }\n",
       "</style>\n",
       "<table border=\"1\" class=\"dataframe\">\n",
       "  <thead>\n",
       "    <tr style=\"text-align: right;\">\n",
       "      <th></th>\n",
       "      <th>0</th>\n",
       "      <th>1</th>\n",
       "      <th>2</th>\n",
       "      <th>3</th>\n",
       "      <th>4</th>\n",
       "      <th>5</th>\n",
       "      <th>6</th>\n",
       "      <th>7</th>\n",
       "      <th>8</th>\n",
       "      <th>9</th>\n",
       "      <th>10</th>\n",
       "      <th>11</th>\n",
       "      <th>12</th>\n",
       "      <th>13</th>\n",
       "      <th>14</th>\n",
       "      <th>15</th>\n",
       "      <th>16</th>\n",
       "      <th>17</th>\n",
       "      <th>18</th>\n",
       "      <th>19</th>\n",
       "    </tr>\n",
       "  </thead>\n",
       "  <tbody>\n",
       "    <tr>\n",
       "      <th>count</th>\n",
       "      <td>2034.000000</td>\n",
       "      <td>2034.000000</td>\n",
       "      <td>2034.000000</td>\n",
       "      <td>2034.000000</td>\n",
       "      <td>2034.000000</td>\n",
       "      <td>2034.000000</td>\n",
       "      <td>2034.000000</td>\n",
       "      <td>2034.000000</td>\n",
       "      <td>2034.000000</td>\n",
       "      <td>2034.000000</td>\n",
       "      <td>2034.000000</td>\n",
       "      <td>2034.000000</td>\n",
       "      <td>2034.000000</td>\n",
       "      <td>2034.000000</td>\n",
       "      <td>2034.000000</td>\n",
       "      <td>2034.000000</td>\n",
       "      <td>2034.000000</td>\n",
       "      <td>2034.000000</td>\n",
       "      <td>2034.000000</td>\n",
       "      <td>2034.000000</td>\n",
       "    </tr>\n",
       "    <tr>\n",
       "      <th>mean</th>\n",
       "      <td>0.240512</td>\n",
       "      <td>0.100057</td>\n",
       "      <td>0.083693</td>\n",
       "      <td>0.029985</td>\n",
       "      <td>0.061361</td>\n",
       "      <td>0.054133</td>\n",
       "      <td>0.064490</td>\n",
       "      <td>0.068090</td>\n",
       "      <td>0.086333</td>\n",
       "      <td>0.079902</td>\n",
       "      <td>0.085550</td>\n",
       "      <td>0.057130</td>\n",
       "      <td>0.057699</td>\n",
       "      <td>0.068550</td>\n",
       "      <td>0.059473</td>\n",
       "      <td>0.062160</td>\n",
       "      <td>0.067702</td>\n",
       "      <td>0.067368</td>\n",
       "      <td>0.074617</td>\n",
       "      <td>0.064765</td>\n",
       "    </tr>\n",
       "    <tr>\n",
       "      <th>std</th>\n",
       "      <td>0.084555</td>\n",
       "      <td>0.068635</td>\n",
       "      <td>0.063890</td>\n",
       "      <td>0.043832</td>\n",
       "      <td>0.045804</td>\n",
       "      <td>0.047808</td>\n",
       "      <td>0.047226</td>\n",
       "      <td>0.049146</td>\n",
       "      <td>0.050762</td>\n",
       "      <td>0.048836</td>\n",
       "      <td>0.050642</td>\n",
       "      <td>0.047266</td>\n",
       "      <td>0.043521</td>\n",
       "      <td>0.052146</td>\n",
       "      <td>0.041307</td>\n",
       "      <td>0.046561</td>\n",
       "      <td>0.048178</td>\n",
       "      <td>0.047668</td>\n",
       "      <td>0.048034</td>\n",
       "      <td>0.045815</td>\n",
       "    </tr>\n",
       "    <tr>\n",
       "      <th>min</th>\n",
       "      <td>0.000000</td>\n",
       "      <td>0.000000</td>\n",
       "      <td>0.000000</td>\n",
       "      <td>0.000000</td>\n",
       "      <td>0.000000</td>\n",
       "      <td>0.000000</td>\n",
       "      <td>0.000000</td>\n",
       "      <td>0.000000</td>\n",
       "      <td>0.000000</td>\n",
       "      <td>0.000000</td>\n",
       "      <td>0.000000</td>\n",
       "      <td>0.000000</td>\n",
       "      <td>0.000000</td>\n",
       "      <td>0.000000</td>\n",
       "      <td>0.000000</td>\n",
       "      <td>0.000000</td>\n",
       "      <td>0.000000</td>\n",
       "      <td>0.000000</td>\n",
       "      <td>0.000000</td>\n",
       "      <td>0.000000</td>\n",
       "    </tr>\n",
       "    <tr>\n",
       "      <th>25%</th>\n",
       "      <td>0.210305</td>\n",
       "      <td>0.043326</td>\n",
       "      <td>0.037901</td>\n",
       "      <td>0.014101</td>\n",
       "      <td>0.033928</td>\n",
       "      <td>0.028720</td>\n",
       "      <td>0.035665</td>\n",
       "      <td>0.038268</td>\n",
       "      <td>0.050583</td>\n",
       "      <td>0.045035</td>\n",
       "      <td>0.050803</td>\n",
       "      <td>0.028913</td>\n",
       "      <td>0.030195</td>\n",
       "      <td>0.035395</td>\n",
       "      <td>0.032265</td>\n",
       "      <td>0.031751</td>\n",
       "      <td>0.035146</td>\n",
       "      <td>0.034739</td>\n",
       "      <td>0.042019</td>\n",
       "      <td>0.034074</td>\n",
       "    </tr>\n",
       "    <tr>\n",
       "      <th>50%</th>\n",
       "      <td>0.260190</td>\n",
       "      <td>0.089202</td>\n",
       "      <td>0.063869</td>\n",
       "      <td>0.021079</td>\n",
       "      <td>0.050101</td>\n",
       "      <td>0.042555</td>\n",
       "      <td>0.054223</td>\n",
       "      <td>0.059618</td>\n",
       "      <td>0.078766</td>\n",
       "      <td>0.070655</td>\n",
       "      <td>0.077649</td>\n",
       "      <td>0.045527</td>\n",
       "      <td>0.048007</td>\n",
       "      <td>0.056736</td>\n",
       "      <td>0.051893</td>\n",
       "      <td>0.052253</td>\n",
       "      <td>0.057458</td>\n",
       "      <td>0.057849</td>\n",
       "      <td>0.065805</td>\n",
       "      <td>0.055478</td>\n",
       "    </tr>\n",
       "    <tr>\n",
       "      <th>75%</th>\n",
       "      <td>0.298408</td>\n",
       "      <td>0.149794</td>\n",
       "      <td>0.114837</td>\n",
       "      <td>0.033289</td>\n",
       "      <td>0.077064</td>\n",
       "      <td>0.065010</td>\n",
       "      <td>0.080371</td>\n",
       "      <td>0.085655</td>\n",
       "      <td>0.117800</td>\n",
       "      <td>0.108334</td>\n",
       "      <td>0.112916</td>\n",
       "      <td>0.072888</td>\n",
       "      <td>0.075746</td>\n",
       "      <td>0.092831</td>\n",
       "      <td>0.078505</td>\n",
       "      <td>0.082732</td>\n",
       "      <td>0.093978</td>\n",
       "      <td>0.094037</td>\n",
       "      <td>0.102953</td>\n",
       "      <td>0.088362</td>\n",
       "    </tr>\n",
       "    <tr>\n",
       "      <th>max</th>\n",
       "      <td>0.379424</td>\n",
       "      <td>0.300610</td>\n",
       "      <td>0.320550</td>\n",
       "      <td>0.545405</td>\n",
       "      <td>0.393886</td>\n",
       "      <td>0.409921</td>\n",
       "      <td>0.372923</td>\n",
       "      <td>0.373989</td>\n",
       "      <td>0.252766</td>\n",
       "      <td>0.272743</td>\n",
       "      <td>0.338346</td>\n",
       "      <td>0.345533</td>\n",
       "      <td>0.378259</td>\n",
       "      <td>0.464764</td>\n",
       "      <td>0.371480</td>\n",
       "      <td>0.338018</td>\n",
       "      <td>0.284414</td>\n",
       "      <td>0.306378</td>\n",
       "      <td>0.310452</td>\n",
       "      <td>0.312630</td>\n",
       "    </tr>\n",
       "  </tbody>\n",
       "</table>\n",
       "</div>"
      ],
      "text/plain": [
       "                0            1            2            3            4   \\\n",
       "count  2034.000000  2034.000000  2034.000000  2034.000000  2034.000000   \n",
       "mean      0.240512     0.100057     0.083693     0.029985     0.061361   \n",
       "std       0.084555     0.068635     0.063890     0.043832     0.045804   \n",
       "min       0.000000     0.000000     0.000000     0.000000     0.000000   \n",
       "25%       0.210305     0.043326     0.037901     0.014101     0.033928   \n",
       "50%       0.260190     0.089202     0.063869     0.021079     0.050101   \n",
       "75%       0.298408     0.149794     0.114837     0.033289     0.077064   \n",
       "max       0.379424     0.300610     0.320550     0.545405     0.393886   \n",
       "\n",
       "                5            6            7            8            9   \\\n",
       "count  2034.000000  2034.000000  2034.000000  2034.000000  2034.000000   \n",
       "mean      0.054133     0.064490     0.068090     0.086333     0.079902   \n",
       "std       0.047808     0.047226     0.049146     0.050762     0.048836   \n",
       "min       0.000000     0.000000     0.000000     0.000000     0.000000   \n",
       "25%       0.028720     0.035665     0.038268     0.050583     0.045035   \n",
       "50%       0.042555     0.054223     0.059618     0.078766     0.070655   \n",
       "75%       0.065010     0.080371     0.085655     0.117800     0.108334   \n",
       "max       0.409921     0.372923     0.373989     0.252766     0.272743   \n",
       "\n",
       "                10           11           12           13           14  \\\n",
       "count  2034.000000  2034.000000  2034.000000  2034.000000  2034.000000   \n",
       "mean      0.085550     0.057130     0.057699     0.068550     0.059473   \n",
       "std       0.050642     0.047266     0.043521     0.052146     0.041307   \n",
       "min       0.000000     0.000000     0.000000     0.000000     0.000000   \n",
       "25%       0.050803     0.028913     0.030195     0.035395     0.032265   \n",
       "50%       0.077649     0.045527     0.048007     0.056736     0.051893   \n",
       "75%       0.112916     0.072888     0.075746     0.092831     0.078505   \n",
       "max       0.338346     0.345533     0.378259     0.464764     0.371480   \n",
       "\n",
       "                15           16           17           18           19  \n",
       "count  2034.000000  2034.000000  2034.000000  2034.000000  2034.000000  \n",
       "mean      0.062160     0.067702     0.067368     0.074617     0.064765  \n",
       "std       0.046561     0.048178     0.047668     0.048034     0.045815  \n",
       "min       0.000000     0.000000     0.000000     0.000000     0.000000  \n",
       "25%       0.031751     0.035146     0.034739     0.042019     0.034074  \n",
       "50%       0.052253     0.057458     0.057849     0.065805     0.055478  \n",
       "75%       0.082732     0.093978     0.094037     0.102953     0.088362  \n",
       "max       0.338018     0.284414     0.306378     0.310452     0.312630  "
      ]
     },
     "execution_count": 719,
     "metadata": {},
     "output_type": "execute_result"
    }
   ],
   "source": [
    "import pandas as pd\n",
    "W = model.user_factors(torch.LongTensor(range(n_docs))).detach().numpy()\n",
    "H = model.item_factors(torch.LongTensor(range(n_terms))).detach().numpy()\n",
    "doc_df = pd.DataFrame(W)\n",
    "term_df = pd.DataFrame(H)\n",
    "doc_df.describe()"
   ]
  },
  {
   "cell_type": "code",
   "execution_count": 720,
   "metadata": {},
   "outputs": [
    {
     "data": {
      "text/html": [
       "<div>\n",
       "<style scoped>\n",
       "    .dataframe tbody tr th:only-of-type {\n",
       "        vertical-align: middle;\n",
       "    }\n",
       "\n",
       "    .dataframe tbody tr th {\n",
       "        vertical-align: top;\n",
       "    }\n",
       "\n",
       "    .dataframe thead th {\n",
       "        text-align: right;\n",
       "    }\n",
       "</style>\n",
       "<table border=\"1\" class=\"dataframe\">\n",
       "  <thead>\n",
       "    <tr style=\"text-align: right;\">\n",
       "      <th></th>\n",
       "      <th>0</th>\n",
       "      <th>1</th>\n",
       "      <th>2</th>\n",
       "      <th>3</th>\n",
       "      <th>4</th>\n",
       "      <th>5</th>\n",
       "      <th>6</th>\n",
       "      <th>7</th>\n",
       "      <th>8</th>\n",
       "      <th>9</th>\n",
       "      <th>10</th>\n",
       "      <th>11</th>\n",
       "      <th>12</th>\n",
       "      <th>13</th>\n",
       "      <th>14</th>\n",
       "      <th>15</th>\n",
       "      <th>16</th>\n",
       "      <th>17</th>\n",
       "      <th>18</th>\n",
       "      <th>19</th>\n",
       "    </tr>\n",
       "  </thead>\n",
       "  <tbody>\n",
       "    <tr>\n",
       "      <th>count</th>\n",
       "      <td>8356.000000</td>\n",
       "      <td>8356.000000</td>\n",
       "      <td>8356.000000</td>\n",
       "      <td>8356.000000</td>\n",
       "      <td>8356.000000</td>\n",
       "      <td>8356.000000</td>\n",
       "      <td>8356.000000</td>\n",
       "      <td>8356.000000</td>\n",
       "      <td>8356.000000</td>\n",
       "      <td>8356.000000</td>\n",
       "      <td>8356.000000</td>\n",
       "      <td>8356.000000</td>\n",
       "      <td>8356.000000</td>\n",
       "      <td>8356.000000</td>\n",
       "      <td>8356.000000</td>\n",
       "      <td>8356.000000</td>\n",
       "      <td>8356.000000</td>\n",
       "      <td>8356.000000</td>\n",
       "      <td>8356.000000</td>\n",
       "      <td>8356.000000</td>\n",
       "    </tr>\n",
       "    <tr>\n",
       "      <th>mean</th>\n",
       "      <td>0.117068</td>\n",
       "      <td>0.050033</td>\n",
       "      <td>0.044434</td>\n",
       "      <td>0.015204</td>\n",
       "      <td>0.032111</td>\n",
       "      <td>0.026995</td>\n",
       "      <td>0.033264</td>\n",
       "      <td>0.034442</td>\n",
       "      <td>0.043960</td>\n",
       "      <td>0.040527</td>\n",
       "      <td>0.043288</td>\n",
       "      <td>0.028259</td>\n",
       "      <td>0.029028</td>\n",
       "      <td>0.033916</td>\n",
       "      <td>0.029644</td>\n",
       "      <td>0.030354</td>\n",
       "      <td>0.033474</td>\n",
       "      <td>0.033282</td>\n",
       "      <td>0.037037</td>\n",
       "      <td>0.032280</td>\n",
       "    </tr>\n",
       "    <tr>\n",
       "      <th>std</th>\n",
       "      <td>0.051058</td>\n",
       "      <td>0.036073</td>\n",
       "      <td>0.030772</td>\n",
       "      <td>0.022276</td>\n",
       "      <td>0.023469</td>\n",
       "      <td>0.025777</td>\n",
       "      <td>0.024627</td>\n",
       "      <td>0.026013</td>\n",
       "      <td>0.026999</td>\n",
       "      <td>0.026293</td>\n",
       "      <td>0.027783</td>\n",
       "      <td>0.025498</td>\n",
       "      <td>0.023319</td>\n",
       "      <td>0.028395</td>\n",
       "      <td>0.022883</td>\n",
       "      <td>0.026430</td>\n",
       "      <td>0.026633</td>\n",
       "      <td>0.026184</td>\n",
       "      <td>0.026867</td>\n",
       "      <td>0.025103</td>\n",
       "    </tr>\n",
       "    <tr>\n",
       "      <th>min</th>\n",
       "      <td>0.000000</td>\n",
       "      <td>0.000000</td>\n",
       "      <td>0.000000</td>\n",
       "      <td>0.000000</td>\n",
       "      <td>0.000000</td>\n",
       "      <td>0.000000</td>\n",
       "      <td>0.000000</td>\n",
       "      <td>0.000000</td>\n",
       "      <td>0.000000</td>\n",
       "      <td>0.000000</td>\n",
       "      <td>0.000000</td>\n",
       "      <td>0.000000</td>\n",
       "      <td>0.000000</td>\n",
       "      <td>0.000000</td>\n",
       "      <td>0.000000</td>\n",
       "      <td>0.000000</td>\n",
       "      <td>0.000000</td>\n",
       "      <td>0.000000</td>\n",
       "      <td>0.000000</td>\n",
       "      <td>0.000000</td>\n",
       "    </tr>\n",
       "    <tr>\n",
       "      <th>25%</th>\n",
       "      <td>0.079295</td>\n",
       "      <td>0.024797</td>\n",
       "      <td>0.022223</td>\n",
       "      <td>0.006822</td>\n",
       "      <td>0.018478</td>\n",
       "      <td>0.013444</td>\n",
       "      <td>0.017910</td>\n",
       "      <td>0.018947</td>\n",
       "      <td>0.025626</td>\n",
       "      <td>0.022509</td>\n",
       "      <td>0.025326</td>\n",
       "      <td>0.013102</td>\n",
       "      <td>0.013741</td>\n",
       "      <td>0.015608</td>\n",
       "      <td>0.014706</td>\n",
       "      <td>0.013598</td>\n",
       "      <td>0.015269</td>\n",
       "      <td>0.015061</td>\n",
       "      <td>0.018821</td>\n",
       "      <td>0.015444</td>\n",
       "    </tr>\n",
       "    <tr>\n",
       "      <th>50%</th>\n",
       "      <td>0.112061</td>\n",
       "      <td>0.042829</td>\n",
       "      <td>0.038441</td>\n",
       "      <td>0.010573</td>\n",
       "      <td>0.027736</td>\n",
       "      <td>0.020711</td>\n",
       "      <td>0.027766</td>\n",
       "      <td>0.029272</td>\n",
       "      <td>0.039613</td>\n",
       "      <td>0.036012</td>\n",
       "      <td>0.038480</td>\n",
       "      <td>0.022430</td>\n",
       "      <td>0.023496</td>\n",
       "      <td>0.026652</td>\n",
       "      <td>0.024855</td>\n",
       "      <td>0.024181</td>\n",
       "      <td>0.027433</td>\n",
       "      <td>0.027113</td>\n",
       "      <td>0.031655</td>\n",
       "      <td>0.027282</td>\n",
       "    </tr>\n",
       "    <tr>\n",
       "      <th>75%</th>\n",
       "      <td>0.153429</td>\n",
       "      <td>0.065938</td>\n",
       "      <td>0.059717</td>\n",
       "      <td>0.016776</td>\n",
       "      <td>0.040485</td>\n",
       "      <td>0.032367</td>\n",
       "      <td>0.041886</td>\n",
       "      <td>0.043136</td>\n",
       "      <td>0.056889</td>\n",
       "      <td>0.052074</td>\n",
       "      <td>0.055873</td>\n",
       "      <td>0.035958</td>\n",
       "      <td>0.037648</td>\n",
       "      <td>0.044123</td>\n",
       "      <td>0.038309</td>\n",
       "      <td>0.039582</td>\n",
       "      <td>0.044783</td>\n",
       "      <td>0.044433</td>\n",
       "      <td>0.048542</td>\n",
       "      <td>0.042246</td>\n",
       "    </tr>\n",
       "    <tr>\n",
       "      <th>max</th>\n",
       "      <td>0.314782</td>\n",
       "      <td>0.296157</td>\n",
       "      <td>0.452942</td>\n",
       "      <td>0.435106</td>\n",
       "      <td>0.867306</td>\n",
       "      <td>0.807418</td>\n",
       "      <td>0.575152</td>\n",
       "      <td>0.480234</td>\n",
       "      <td>0.341297</td>\n",
       "      <td>0.441992</td>\n",
       "      <td>0.436990</td>\n",
       "      <td>0.440906</td>\n",
       "      <td>0.371408</td>\n",
       "      <td>0.370321</td>\n",
       "      <td>0.457985</td>\n",
       "      <td>0.375401</td>\n",
       "      <td>0.516862</td>\n",
       "      <td>0.317577</td>\n",
       "      <td>0.361368</td>\n",
       "      <td>0.271376</td>\n",
       "    </tr>\n",
       "  </tbody>\n",
       "</table>\n",
       "</div>"
      ],
      "text/plain": [
       "                0            1            2            3            4   \\\n",
       "count  8356.000000  8356.000000  8356.000000  8356.000000  8356.000000   \n",
       "mean      0.117068     0.050033     0.044434     0.015204     0.032111   \n",
       "std       0.051058     0.036073     0.030772     0.022276     0.023469   \n",
       "min       0.000000     0.000000     0.000000     0.000000     0.000000   \n",
       "25%       0.079295     0.024797     0.022223     0.006822     0.018478   \n",
       "50%       0.112061     0.042829     0.038441     0.010573     0.027736   \n",
       "75%       0.153429     0.065938     0.059717     0.016776     0.040485   \n",
       "max       0.314782     0.296157     0.452942     0.435106     0.867306   \n",
       "\n",
       "                5            6            7            8            9   \\\n",
       "count  8356.000000  8356.000000  8356.000000  8356.000000  8356.000000   \n",
       "mean      0.026995     0.033264     0.034442     0.043960     0.040527   \n",
       "std       0.025777     0.024627     0.026013     0.026999     0.026293   \n",
       "min       0.000000     0.000000     0.000000     0.000000     0.000000   \n",
       "25%       0.013444     0.017910     0.018947     0.025626     0.022509   \n",
       "50%       0.020711     0.027766     0.029272     0.039613     0.036012   \n",
       "75%       0.032367     0.041886     0.043136     0.056889     0.052074   \n",
       "max       0.807418     0.575152     0.480234     0.341297     0.441992   \n",
       "\n",
       "                10           11           12           13           14  \\\n",
       "count  8356.000000  8356.000000  8356.000000  8356.000000  8356.000000   \n",
       "mean      0.043288     0.028259     0.029028     0.033916     0.029644   \n",
       "std       0.027783     0.025498     0.023319     0.028395     0.022883   \n",
       "min       0.000000     0.000000     0.000000     0.000000     0.000000   \n",
       "25%       0.025326     0.013102     0.013741     0.015608     0.014706   \n",
       "50%       0.038480     0.022430     0.023496     0.026652     0.024855   \n",
       "75%       0.055873     0.035958     0.037648     0.044123     0.038309   \n",
       "max       0.436990     0.440906     0.371408     0.370321     0.457985   \n",
       "\n",
       "                15           16           17           18           19  \n",
       "count  8356.000000  8356.000000  8356.000000  8356.000000  8356.000000  \n",
       "mean      0.030354     0.033474     0.033282     0.037037     0.032280  \n",
       "std       0.026430     0.026633     0.026184     0.026867     0.025103  \n",
       "min       0.000000     0.000000     0.000000     0.000000     0.000000  \n",
       "25%       0.013598     0.015269     0.015061     0.018821     0.015444  \n",
       "50%       0.024181     0.027433     0.027113     0.031655     0.027282  \n",
       "75%       0.039582     0.044783     0.044433     0.048542     0.042246  \n",
       "max       0.375401     0.516862     0.317577     0.361368     0.271376  "
      ]
     },
     "execution_count": 720,
     "metadata": {},
     "output_type": "execute_result"
    }
   ],
   "source": [
    "term_df.describe()"
   ]
  },
  {
   "cell_type": "code",
   "execution_count": 734,
   "metadata": {},
   "outputs": [
    {
     "data": {
      "text/plain": [
       "<matplotlib.axes._subplots.AxesSubplot at 0x7fd2bab91240>"
      ]
     },
     "execution_count": 734,
     "metadata": {},
     "output_type": "execute_result"
    },
    {
     "data": {
      "image/png": "[encoded data removed]",
      "text/plain": [
       "<Figure size 720x288 with 1 Axes>"
      ]
     },
     "metadata": {
      "needs_background": "light"
     },
     "output_type": "display_data"
    }
   ],
   "source": [
    "pd.Series(W.flatten()).hist(bins=100, log=True, alpha=0.5, figsize=(10,4))\n",
    "pd.Series(W1.flatten()).hist(bins=100, alpha=0.5)"
   ]
  },
  {
   "cell_type": "code",
   "execution_count": 735,
   "metadata": {},
   "outputs": [
    {
     "data": {
      "text/plain": [
       "<matplotlib.axes._subplots.AxesSubplot at 0x7fd2bb25ac18>"
      ]
     },
     "execution_count": 735,
     "metadata": {},
     "output_type": "execute_result"
    },
    {
     "data": {
      "image/png": "[encoded data removed]",
      "text/plain": [
       "<Figure size 720x288 with 1 Axes>"
      ]
     },
     "metadata": {
      "needs_background": "light"
     },
     "output_type": "display_data"
    }
   ],
   "source": [
    "pd.Series(H.flatten()).hist(bins=100, log=True, alpha=0.5, figsize=(10,4))\n",
    "pd.Series(H1.flatten()).hist(bins=100, alpha=0.5)"
   ]
  },
  {
   "cell_type": "code",
   "execution_count": null,
   "metadata": {},
   "outputs": [],
   "source": []
  },
  {
   "cell_type": "code",
   "execution_count": 739,
   "metadata": {},
   "outputs": [
    {
     "data": {
      "text/plain": [
       "['sex motto pov cruel homosexuality tiff abortion library',\n",
       " 'program ftp advance format files windows gif dos',\n",
       " 'space launch lunar nasa satellite dc shuttle moon',\n",
       " 'ico bobbe beauchaine bronx manhattan sank tek vice',\n",
       " 'god jesus ra bible ye satan deletion malcolm',\n",
       " 'objective morality values moral subjective absolute freedom science',\n",
       " 'graphics comp amiga 3d aspects computer data radiosity',\n",
       " 'cview file image files tiff temp format jpg',\n",
       " 'card mode vesa jesus video driver vga spacecraft',\n",
       " 'jesus cheers kent mormons christian jews christians conform',\n",
       " 'atheism islam atheists muslims islamic allah rushdie atheist',\n",
       " 'vesa card mode space driver 256 vga color',\n",
       " 'people software mary dryden real shafer balls insisting',\n",
       " 'edu cobb koresh wrong 9591 mcwilliams jim 517',\n",
       " 'thanks just did objective claim software posts update',\n",
       " 'does know men kent cheers islam mom cview',\n",
       " 'software koresh evidence jim 3do fbi deletion newspaper',\n",
       " 'question nasa gov egalon don kent animals data',\n",
       " 'freewill moral satan angels thanks animals tells windows',\n",
       " 'mom list ve post bible don values religion']"
      ]
     },
     "execution_count": 739,
     "metadata": {},
     "output_type": "execute_result"
    }
   ],
   "source": [
    "show_topics(H.T)"
   ]
  },
  {
   "cell_type": "code",
   "execution_count": 628,
   "metadata": {},
   "outputs": [
    {
     "data": {
      "text/plain": [
       "['don just think people like know ve good',\n",
       " 'thanks advance know looking mail does help hi',\n",
       " 'space nasa launch shuttle orbit lunar earth moon',\n",
       " 'ico tek bobbe bronx beauchaine manhattan sank queens',\n",
       " 'god jesus bible believe christian christ christians satan',\n",
       " 'objective morality values moral subjective science absolute claim',\n",
       " 'graphics comp software 3d edu computer group amiga',\n",
       " 'files file image format gif tiff cview program',\n",
       " 'islam atheism religion atheists evidence islamic does argument',\n",
       " 'card mode vesa driver windows video vga color']"
      ]
     },
     "execution_count": 628,
     "metadata": {},
     "output_type": "execute_result"
    }
   ],
   "source": [
    "show_topics(H1)"
   ]
  },
  {
   "cell_type": "code",
   "execution_count": 340,
   "metadata": {},
   "outputs": [
    {
     "data": {
      "text/plain": [
       "(10, 8356)"
      ]
     },
     "execution_count": 340,
     "metadata": {},
     "output_type": "execute_result"
    }
   ],
   "source": [
    "H1.shape"
   ]
  },
  {
   "cell_type": "code",
   "execution_count": 405,
   "metadata": {},
   "outputs": [
    {
     "data": {
      "text/plain": [
       "tensor(5164.6338)"
      ]
     },
     "execution_count": 405,
     "metadata": {},
     "output_type": "execute_result"
    }
   ],
   "source": [
    "model.user_factors(torch.LongTensor(range(n_docs))).detach().norm()"
   ]
  },
  {
   "cell_type": "code",
   "execution_count": 407,
   "metadata": {},
   "outputs": [
    {
     "data": {
      "text/plain": [
       "tensor([[0.0006, 0.0061, 0.0036,  ..., 0.0046, 0.0118, 0.0052],\n",
       "        [0.0128, 0.0046, 0.0082,  ..., 0.0170, 0.0055, 0.0025],\n",
       "        [0.0166, 0.0015, 0.0204,  ..., 0.0058, 0.0081, 0.0064],\n",
       "        ...,\n",
       "        [0.0085, 0.0168, 0.0028,  ..., 0.0034, 0.0046, 0.0016],\n",
       "        [0.0012, 0.0073, 0.0056,  ..., 0.0020, 0.0024, 0.0019],\n",
       "        [0.0124, 0.0140, 0.0115,  ..., 0.0121, 0.0123, 0.0047]],\n",
       "       grad_fn=<AbsBackward>)"
      ]
     },
     "execution_count": 407,
     "metadata": {},
     "output_type": "execute_result"
    }
   ],
   "source": [
    "model.user_factors(torch.LongTensor(range(n_docs))).normal_(std=0.01).abs_()"
   ]
  },
  {
   "cell_type": "code",
   "execution_count": 414,
   "metadata": {},
   "outputs": [
    {
     "data": {
      "text/plain": [
       "torch.Size([2034, 10])"
      ]
     },
     "execution_count": 414,
     "metadata": {},
     "output_type": "execute_result"
    }
   ],
   "source": [
    "model.user_factors(torch.LongTensor(range(n_docs))).detach().shape"
   ]
  },
  {
   "cell_type": "code",
   "execution_count": 533,
   "metadata": {},
   "outputs": [],
   "source": [
    "a = model.user_factors(torch.LongTensor(range(n_docs))).detach()"
   ]
  }
 ],
 "metadata": {
  "kernelspec": {
   "display_name": "Python 3",
   "language": "python",
   "name": "python3"
  },
  "language_info": {
   "codemirror_mode": {
    "name": "ipython",
    "version": 3
   },
   "file_extension": ".py",
   "mimetype": "text/x-python",
   "name": "python",
   "nbconvert_exporter": "python",
   "pygments_lexer": "ipython3",
   "version": "3.6.5"
  }
 },
 "nbformat": 4,
 "nbformat_minor": 2
}
