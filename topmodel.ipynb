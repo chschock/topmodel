{
 "cells": [
  {
   "cell_type": "code",
   "execution_count": 288,
   "metadata": {},
   "outputs": [],
   "source": [
    "import numpy as np\n",
    "import pandas as pd\n",
    "from sklearn.datasets import fetch_20newsgroups\n",
    "from sklearn import decomposition\n",
    "import matplotlib.pyplot as plt\n",
    "from sklearn.feature_extraction.text import CountVectorizer, TfidfTransformer\n",
    "%matplotlib inline\n",
    "np.set_printoptions(suppress=True)"
   ]
  },
  {
   "cell_type": "code",
   "execution_count": 289,
   "metadata": {},
   "outputs": [],
   "source": [
    "categories = None  # ['alt.atheism', 'talk.religion.misc', 'comp.graphics', 'sci.space']\n",
    "remove = ('headers', 'footers', 'quotes')\n",
    "newsgroups_train = fetch_20newsgroups(subset='train', categories=categories, remove=remove)\n",
    "newsgroups_test = fetch_20newsgroups(subset='test', categories=categories, remove=remove)"
   ]
  },
  {
   "cell_type": "code",
   "execution_count": 294,
   "metadata": {},
   "outputs": [
    {
     "name": "stdout",
     "output_type": "stream",
     "text": [
      "11314 documents\n",
      "8436 useful documents\n",
      "2761 terms in vocab\n"
     ]
    }
   ],
   "source": [
    "TOKEN_PAT = r'\\b[^(\\W|\\d|_)]{1,}\\w\\w+\\b'\n",
    "cnt_vecr = CountVectorizer(stop_words='english', min_df=0.005, max_df=0.2, token_pattern=TOKEN_PAT)\n",
    "dtm = cnt_vecr.fit_transform(newsgroups_train.data)\n",
    "print('{} documents'.format(dtm.shape[0]))\n",
    "\n",
    "good_ics = np.where((dtm > 0).sum(axis=1) > 10)[0]\n",
    "good_newsgroup_data = [newsgroups_train.data[i] for i in good_ics]  # no pointless docs in training\n",
    "dtm = cnt_vecr.fit_transform(good_newsgroup_data)\n",
    "dtm[dtm > 10] = 10  # no pointless word counts\n",
    "print('{} useful documents'.format(dtm.shape[0]))\n",
    "\n",
    "vectors_tfidf = TfidfTransformer().fit_transform(dtm)\n",
    "vocab = cnt_vecr.get_feature_names()\n",
    "P_term = dtm.sum(axis=0) / dtm.sum()\n",
    "print('{} terms in vocab'.format(len(vocab)))\n",
    "\n",
    "# vectorizer_tfidf = TfidfVectorizer(stop_words='english', min_df=0.001, max_df=0.5)\n",
    "# vectors_tfidf = vectorizer_tfidf.fit_transform(newsgroups_train.data) # (documents, vocab)\n",
    "# vocab = np.array(vectorizer_tfidf.get_feature_names())"
   ]
  },
  {
   "cell_type": "code",
   "execution_count": null,
   "metadata": {},
   "outputs": [],
   "source": []
  },
  {
   "cell_type": "markdown",
   "metadata": {},
   "source": [
    "### present topics by relevant words\n",
    "- from pyldavis, but footnote 2 there is incorrect\n",
    "- https://nlp.stanford.edu/events/illvi2014/papers/sievert-illvi2014.pdf"
   ]
  },
  {
   "cell_type": "code",
   "execution_count": 242,
   "metadata": {},
   "outputs": [],
   "source": [
    "num_top_words=15\n",
    "\n",
    "def show_topics(topic_term_mat, P_term=P_term, vocab=vocab, lbd=1):\n",
    "    # use weighting scheme from pyldavis\n",
    "    a = np.asarray(\n",
    "        lbd * np.log1p(topic_term_mat) + \\\n",
    "        (1 - lbd) * np.log1p(np.multiply(topic_term_mat, 1 / P_term.reshape(1, -1)))\n",
    "    )\n",
    "    top_words = lambda t: [vocab[i] for i in np.argsort(t)[:-num_top_words-1:-1]]\n",
    "    topic_words = [top_words(t) for t in a]\n",
    "    topic_list = [' '.join(t) for t in topic_words]\n",
    "    for i, t in enumerate(topic_list):\n",
    "        print('{:2d}: {}'.format(i, t))\n",
    "    return topic_list"
   ]
  },
  {
   "cell_type": "markdown",
   "metadata": {},
   "source": [
    "## sklearn NMF"
   ]
  },
  {
   "cell_type": "code",
   "execution_count": 243,
   "metadata": {},
   "outputs": [
    {
     "name": "stdout",
     "output_type": "stream",
     "text": [
      "CPU times: user 1.8 s, sys: 2.75 s, total: 4.56 s\n",
      "Wall time: 1.28 s\n"
     ]
    }
   ],
   "source": [
    "m,n=vectors_tfidf.shape\n",
    "d=20  # num topics\n",
    "\n",
    "# beta_loss: 1 = kullback-leibler, 2 = frobenius-norm\n",
    "clf = decomposition.NMF(n_components=d, random_state=1, solver='mu', beta_loss=2)\n",
    "\n",
    "%time W1 = clf.fit_transform(vectors_tfidf)\n",
    "H1 = clf.components_"
   ]
  },
  {
   "cell_type": "code",
   "execution_count": 244,
   "metadata": {},
   "outputs": [
    {
     "name": "stdout",
     "output_type": "stream",
     "text": [
      " 0: really right good say time did things thing gun evidence make life going wrong way\n",
      " 1: windows dos microsoft norton desktop swap running sys drivers utilities screen font driver shareware disk\n",
      " 2: game team players games season hockey nhl teams play pitching league player baseball playoffs year\n",
      " 3: dsl chastity n3jxp geb cadre shameful intellect skepticism pitt surrender gordon banks soon patient patients\n",
      " 4: key chip clipper encryption keys escrow nsa encrypted algorithm crypto secure phones des wiretap rsa\n",
      " 5: drive drives floppy disk hard boot ide quantum controller meg motherboard settings external internal bios\n",
      " 6: god jesus bible christ faith heaven sin lord grace christians eternal kingdom scripture spirit mary\n",
      " 7: mail email list address send interested mailing fax info reply phone looking post replies book\n",
      " 8: armenian armenians turkish armenia turkey turks genocide argic serdar muslim soviet greek russian republic massacre\n",
      " 9: card video vga ati monitor cards diamond drivers vlb svga bus ultra isa motherboard cache\n",
      "10: car cars engine dealer honda tires bike miles ford rear driving paint owner lights oil\n",
      "11: space nasa shuttle launch orbit moon lunar station solar mission spacecraft satellite earth funding rocket\n",
      "12: window motif manager application x11r5 xterm widget server button display client terminal root screen xlib\n",
      "13: sale offer shipping condition price asking manuals brand excellent stereo sell disks items super sony\n",
      "14: israel israeli arab arabs jews israelis lebanon palestinian adam jewish jerusalem peace occupied attacks occupation\n",
      "15: edu com indiana apr uiuc gmt zip uunet corp ohio ftp uucp internet university andrew\n",
      "16: thanks advance appreciated greatly does help wondering info hello information appreciate anybody looking replies suggestions\n",
      "17: files file format image zip gif formats ftp convert directory graphics shareware ascii program utility\n",
      "18: scsi ide isa bus controller sec vlb devices spec quadra transfer slower mhz speeds mac\n",
      "19: modem port mac mouse serial apple ports printer simms pins voltage connect board pin quadra\n"
     ]
    }
   ],
   "source": [
    "_ = show_topics(H1, lbd=0.8)"
   ]
  },
  {
   "cell_type": "markdown",
   "metadata": {},
   "source": [
    "## anchor word NMF"
   ]
  },
  {
   "cell_type": "code",
   "execution_count": 245,
   "metadata": {},
   "outputs": [],
   "source": [
    "from anchors import findAnchors\n",
    "from sklearn.decomposition.nmf import non_negative_factorization\n",
    "from sklearn.preprocessing import normalize\n",
    "from scipy import sparse\n",
    "import time"
   ]
  },
  {
   "cell_type": "code",
   "execution_count": null,
   "metadata": {},
   "outputs": [],
   "source": []
  },
  {
   "cell_type": "code",
   "execution_count": 246,
   "metadata": {},
   "outputs": [],
   "source": [
    "class Params:\n",
    "    def __init__(self, filename):\n",
    "        self.log_prefix = None\n",
    "        self.checkpoint_prefix = None\n",
    "        self.seed = int(time.time())\n",
    "\n",
    "        with open(filename, \"rt\") as f:\n",
    "            for l in f:\n",
    "                if l == \"\\n\" or l[0] == \"#\":\n",
    "                    continue\n",
    "                l = l.strip()\n",
    "                l = l.split(\"=\")\n",
    "                if l[0] == \"log_prefix\":\n",
    "                    self.log_prefix = l[1]\n",
    "                elif l[0] == \"max_threads\":\n",
    "                    self.max_threads = int(l[1])\n",
    "                elif l[0] == \"eps\":\n",
    "                    self.eps = float(l[1])\n",
    "                elif l[0] == \"checkpoint_prefix\":\n",
    "                    self.checkpoint_prefix = l[1]\n",
    "                elif l[0] == \"new_dim\":\n",
    "                    self.new_dim = int(l[1])\n",
    "                elif l[0] == \"seed\":\n",
    "                    self.seed = int(l[1])\n",
    "                elif l[0] == \"anchor_thresh\":\n",
    "                    self.anchor_thresh = int(l[1])\n",
    "                elif l[0] == \"top_words\":\n",
    "                    self.top_words = int(l[1])\n",
    "\n",
    "params = Params('settings.example')"
   ]
  },
  {
   "cell_type": "code",
   "execution_count": 247,
   "metadata": {},
   "outputs": [
    {
     "name": "stdout",
     "output_type": "stream",
     "text": [
      "2761 words / 8436 documents\n",
      "identifying candidate anchors\n",
      "1164 candidates\n"
     ]
    }
   ],
   "source": [
    "M = dtm.T.tocsc().astype(float)\n",
    "print('{} words / {} documents'.format(*M.shape))\n",
    "\n",
    "print(\"identifying candidate anchors\")\n",
    "candidate_anchors = np.where((M > 0).sum(axis=1) > params.anchor_thresh)[0].tolist()\n",
    "\n",
    "# # only accept anchors that appear in a significant number of docs\n",
    "# for i in range(M.shape[0]):\n",
    "#     if len(np.nonzero(M[i, :])[1]) > params.anchor_thresh:\n",
    "#         candidate_anchors.append(i)\n",
    "\n",
    "print(len(candidate_anchors), \"candidates\")"
   ]
  },
  {
   "cell_type": "code",
   "execution_count": null,
   "metadata": {
    "scrolled": false
   },
   "outputs": [],
   "source": []
  },
  {
   "cell_type": "code",
   "execution_count": 263,
   "metadata": {},
   "outputs": [],
   "source": [
    "def get_Q(M):\n",
    "    \"\"\"\n",
    "    M: term x document matrix\n",
    "    \"\"\"\n",
    "    doclengths = np.array(M.sum(axis=0))\n",
    "    H = M.multiply(1 / np.sqrt(np.multiply(doclengths, doclengths - 1) ))\n",
    "    diags = np.array(M.multiply(1 / np.multiply(doclengths, doclengths - 1)).sum(axis=1)).flatten()\n",
    "    Q = H.dot(H.T) - sparse.diags(diags)\n",
    "    assert np.isclose(Q[Q<0], 0).all()\n",
    "    Q[Q<0] = 0\n",
    "    return np.asarray((Q / Q.sum()).todense())\n",
    "\n",
    "Q = get_Q(M)"
   ]
  },
  {
   "cell_type": "code",
   "execution_count": null,
   "metadata": {},
   "outputs": [],
   "source": []
  },
  {
   "cell_type": "code",
   "execution_count": 255,
   "metadata": {},
   "outputs": [],
   "source": [
    "# # original procedure to compare\n",
    "# from Q_matrix import generate_Q_matrix\n",
    "# Q = generate_Q_matrix(M.copy())  # changes input matrix\n",
    "# np.asarray((get_Q(M) - Q)[:7,:7] * 1000).round(6)"
   ]
  },
  {
   "cell_type": "code",
   "execution_count": 256,
   "metadata": {},
   "outputs": [
    {
     "name": "stdout",
     "output_type": "stream",
     "text": [
      "anchors are:\n",
      "0 banks\n",
      "1 scsi\n",
      "2 picture\n",
      "3 period\n",
      "4 mouse\n",
      "5 pub\n",
      "6 water\n",
      "7 motif\n",
      "8 belief\n",
      "9 ground\n",
      "10 window\n",
      "11 brand\n",
      "12 food\n",
      "13 israel\n",
      "14 vga\n",
      "15 comp\n",
      "16 print\n",
      "17 keys\n",
      "18 object\n",
      "19 bus\n"
     ]
    }
   ],
   "source": [
    "n_topics = 20\n",
    "assert n_topics < len(candidate_anchors)\n",
    "\n",
    "# find anchors- this step uses a random projection\n",
    "# into low dimensional space\n",
    "anchors = findAnchors(Q, n_topics, params, candidate_anchors)\n",
    "print(\"anchors are:\")\n",
    "for i, a in enumerate(anchors):\n",
    "    print(i, vocab[a])"
   ]
  },
  {
   "cell_type": "code",
   "execution_count": 264,
   "metadata": {},
   "outputs": [
    {
     "name": "stdout",
     "output_type": "stream",
     "text": [
      "begin threaded recovery with 3 processors\n",
      "0\t485\t0.12751356297601638\n",
      "1000\t152\t0.25021723129318213\n",
      "2000\t581\t0.2495750969294267\n"
     ]
    }
   ],
   "source": [
    "from fastRecover import nonNegativeRecover\n",
    "loss = 'KL'  # 'KL' / 'L2'\n",
    "A_org, topic_likelihoods = nonNegativeRecover(Q, anchors, loss, params)"
   ]
  },
  {
   "cell_type": "code",
   "execution_count": 266,
   "metadata": {},
   "outputs": [
    {
     "name": "stdout",
     "output_type": "stream",
     "text": [
      " 0: geb dsl n3jxp chastity shameful intellect cadre skepticism pitt surrender gordon banks soon patient brain\n",
      " 1: scsi ide quadra drive drives controller boot quantum pins floppy external cables upgrade simms mac\n",
      " 2: picture roger till paint inch tube records baseball sports adams converted boys jack filter losing\n",
      " 3: islanders rangers van toronto detroit wings playoff leafs pittsburgh quebec jersey adams philadelphia montreal boston\n",
      " 4: mouse button ball desktop driver modem port keyboard ports pins connect annoying gateway bat sys\n",
      " 5: zip indiana ftp pub shareware directory updated routine helps site latest desktop gif bbs jan\n",
      " 6: water heat cool oil fuel hot tires gas spare tank nuclear ford engine air odd\n",
      " 7: motif x11r5 compile greatly core appreciated classes warning hello marc xlib advance replies dale widget\n",
      " 8: belief kent gods punishment believing cheers christians heaven objective scripture islam god morality christianity bobby\n",
      " 9: ground ride signals connected rear tank pin bike pins bikes amp wire cheaper honda grounds\n",
      "10: window manager font xterm terminal xlib characters hints root menu client windows button implement specify\n",
      "11: brand sale shipping manuals selling offer condition stereo price honda buying asking purchased disks sell\n",
      "12: msg taste food eat reaction diet brain symptoms wear sick curious kent disease surprise amounts\n",
      "13: israelis arabs israel adam lebanon arab jerusalem israeli palestinian occupation propaganda harvard peace jews biased\n",
      "14: vga svga monitor card meg video adapter ati monitors diamond colors modes drivers cards sony\n",
      "15: comp sys thanx newsgroup gmt apr newsgroups misc reader instructions pair summary choices posts marc\n",
      "16: print printer laser printing fonts postscript ascii select characters connect doug screen setup font copies\n",
      "17: keys warrant phones escrow nsa key cellular encrypted crypto clipper classified chips chip algorithm scheme\n",
      "18: object observations thanx planet objective dictionary appreciated energy orbit surface describes greatly plane advance bell\n",
      "19: bus isa vlb cpu mhz cache diamond motherboard ide slower speed ati sec controller turbo\n"
     ]
    }
   ],
   "source": [
    "_ = show_topics(A_org.T, lbd=0.8)"
   ]
  },
  {
   "cell_type": "code",
   "execution_count": 269,
   "metadata": {},
   "outputs": [
    {
     "name": "stdout",
     "output_type": "stream",
     "text": [
      "CPU times: user 11.3 s, sys: 10.2 s, total: 21.5 s\n",
      "Wall time: 6.62 s\n",
      "computing C took 40 iterations\n"
     ]
    }
   ],
   "source": [
    "# recover topics\n",
    "# A, topic_likelihoods = nonNegativeRecover(Q, anchors, loss, params)\n",
    "\n",
    "P_w = Q.sum(axis=1)\n",
    "Q_bar = normalize(Q, axis=1, norm='l1')\n",
    "Q_anchors = Q_bar[anchors, :]  #.toarray()\n",
    "\n",
    "# compute C such that C * Q_anchors = Q_bar\n",
    "# all rowsums of this matrix product are 1, for Q_* by construction, for C it follows\n",
    "#   Q_anchor\n",
    "# C Q_bar\n",
    "%time C, _, n_iter = non_negative_factorization(Q_bar, W=None, H=Q_anchors, n_components=n_topics,\\\n",
    "                                                update_H=False, solver='mu', beta_loss=1)\n",
    "\n",
    "C_n = normalize(C, axis=1, norm='l1')\n",
    "\n",
    "print('computing C took {} iterations'.format(n_iter))"
   ]
  },
  {
   "cell_type": "code",
   "execution_count": 270,
   "metadata": {},
   "outputs": [],
   "source": [
    "A_prime = np.multiply(P_w.reshape(-1, 1), C)\n",
    "A = normalize(A_prime, axis=0, norm='l1')"
   ]
  },
  {
   "cell_type": "code",
   "execution_count": 271,
   "metadata": {},
   "outputs": [
    {
     "name": "stdout",
     "output_type": "stream",
     "text": [
      " 0: dsl n3jxp chastity shameful geb cadre intellect skepticism pitt surrender gordon banks patient famous county\n",
      " 1: quantum quadra cables pins boot speeds spec slower successfully trick norton backup sec ide blind\n",
      " 2: till picture inch roger boys paint douglas records filter converted jack losing adams tube impressive\n",
      " 3: islanders tuesday jersey quebec atlanta baltimore wins playoff talent adams patrick scored plays buffalo scoring\n",
      " 4: annoying mouse desktop button pins stanford focus bat apart gateway ball ports origin jump diamond\n",
      " 5: indiana zip binary routine reads updated shareware jan registered announce desk elements mil referring compile\n",
      " 6: cool danger demonstrated facilities tear spare weather heat industrial tires soft holes fuel mount nuclear\n",
      " 7: compile classes compiled core implement dale libraries supplied bugs marc motif hints corporation x11r5 warning\n",
      " 8: teachings gods reject churches spiritual believing judgement beings grace roman revelation explicitly notion worship doctrine\n",
      " 9: grounds jump serves sub affected allen signals neutral hits amp truck receiver fly ideal lights\n",
      "10: specify hints implement specified maintained height terminal upper menu characters root corner xlib pixel xterm\n",
      "11: brand mount manuals warranty inch sells stereo firm consists magazines honda pair repair purchased comparable\n",
      "12: taste diet severe complain naturally msg substance symptoms amounts blind reaction informed surprise smoke eat\n",
      "13: occupation israelis propaganda lebanon terrorism terrorists jerusalem murdered attacking occupied biased jew territory civilian palestinian\n",
      "14: svga vga ati modes monitors adapter diamond ultra combination register displays hook sony capabilities macintosh\n",
      "15: choices announce addressed participate comp gmt reader submit algorithms newsgroups programmer topics restrict sys kevin\n",
      "16: printing print laser ascii requirement sheet printer comparable characters fonts postscript dale specify doug printed\n",
      "17: classified wiretap conversations protecting crack phones warrant cellular blocks registered derived restrictions pgp crypto encrypted\n",
      "18: observations object planet describes industrial dictionary strength stored charles schools repeatedly vary conclusions signature valuable\n",
      "19: vlb isa ultra slower diamond sec ati cache crash clone cpu bus swap gateway mhz\n"
     ]
    }
   ],
   "source": [
    "_ = show_topics(A.T, lbd=0.8)"
   ]
  },
  {
   "cell_type": "code",
   "execution_count": 300,
   "metadata": {},
   "outputs": [
    {
     "name": "stdout",
     "output_type": "stream",
     "text": [
      " 0: time good right say did make really way things said going want thing point believe\n",
      " 1: windows dos running file run using disk program microsoft version problem screen software files drivers\n",
      " 2: game team games year players season play hockey league win teams nhl player baseball toronto\n",
      " 3: geb pitt cadre dsl chastity n3jxp shameful intellect skepticism surrender gordon banks soon edu patients\n",
      " 4: key chip encryption clipper keys government escrow algorithm public nsa security secure des law encrypted\n",
      " 5: drive drives disk hard floppy ide controller boot computer internal meg switch tape motherboard bios\n",
      " 6: god jesus bible christ faith believe christian christians sin lord heaven truth father hell belief\n",
      " 7: mail list email send address interested info thanks post looking phone fax book mailing reply\n",
      " 8: armenian armenians turkish armenia turkey turks genocide government russian soviet greek muslim argic war serdar\n",
      " 9: card video monitor drivers cards vga bus driver color ati graphics ram diamond vlb bit\n",
      "10: car cars bike engine miles dealer tires new driving honda price bought good insurance ford\n",
      "11: space nasa shuttle launch orbit earth moon station lunar satellite mission program data gov research\n",
      "12: window motif application manager server display widget screen using problem x11r5 program xterm code running\n",
      "13: sale offer shipping price condition new asking best sell excellent includes original interested used brand\n",
      "14: israel israeli jews arab arabs jewish peace lebanon israelis palestinian land adam war attacks anti\n",
      "15: edu com ftp university apr internet pub mit article david zip indiana sun version gov\n",
      "16: thanks does advance appreciated help information info greatly looking anybody wondering hello question appreciate need\n",
      "17: file files image format ftp program use graphics directory gif data zip available convert color\n",
      "18: scsi ide bus controller isa bit mac devices sec transfer data interface fast chip vlb\n",
      "19: mac use modem port mouse problem apple serial power using board printer work software used\n"
     ]
    }
   ],
   "source": [
    "# compare to default sklearn NMF result\n",
    "_ = show_topics(H1, lbd=1)"
   ]
  },
  {
   "cell_type": "markdown",
   "metadata": {},
   "source": [
    "### recover topic x document matrix W\n",
    "it makes sense to `normalize(W, axis=0, norm='l1')`"
   ]
  },
  {
   "cell_type": "code",
   "execution_count": 275,
   "metadata": {},
   "outputs": [
    {
     "name": "stdout",
     "output_type": "stream",
     "text": [
      "CPU times: user 263 ms, sys: 256 ms, total: 519 ms\n",
      "Wall time: 186 ms\n",
      "computing W took 40 iterations\n"
     ]
    }
   ],
   "source": [
    "# product matrix M.T is document term matrix\n",
    "#      A.T\n",
    "# W.T  M.T\n",
    "%time W_T, _, n_iter = non_negative_factorization(M.T, W=None, H=A.T, n_components=n_topics,\\\n",
    "                                                  update_H=False, solver='mu', beta_loss=1)\n",
    "W = W_T.T\n",
    "\n",
    "print('computing W took {} iterations'.format(n_iter))"
   ]
  },
  {
   "cell_type": "code",
   "execution_count": null,
   "metadata": {},
   "outputs": [],
   "source": []
  },
  {
   "cell_type": "markdown",
   "metadata": {},
   "source": [
    "## sparseness"
   ]
  },
  {
   "cell_type": "code",
   "execution_count": 298,
   "metadata": {},
   "outputs": [
    {
     "data": {
      "text/html": [
       "<div>\n",
       "<style scoped>\n",
       "    .dataframe tbody tr th:only-of-type {\n",
       "        vertical-align: middle;\n",
       "    }\n",
       "\n",
       "    .dataframe tbody tr th {\n",
       "        vertical-align: top;\n",
       "    }\n",
       "\n",
       "    .dataframe thead th {\n",
       "        text-align: right;\n",
       "    }\n",
       "</style>\n",
       "<table border=\"1\" class=\"dataframe\">\n",
       "  <thead>\n",
       "    <tr style=\"text-align: right;\">\n",
       "      <th></th>\n",
       "      <th>0</th>\n",
       "      <th>1</th>\n",
       "      <th>2</th>\n",
       "      <th>3</th>\n",
       "      <th>4</th>\n",
       "      <th>5</th>\n",
       "      <th>6</th>\n",
       "      <th>7</th>\n",
       "      <th>8</th>\n",
       "      <th>9</th>\n",
       "      <th>10</th>\n",
       "      <th>11</th>\n",
       "      <th>12</th>\n",
       "      <th>13</th>\n",
       "      <th>14</th>\n",
       "      <th>15</th>\n",
       "      <th>16</th>\n",
       "      <th>17</th>\n",
       "      <th>18</th>\n",
       "      <th>19</th>\n",
       "    </tr>\n",
       "  </thead>\n",
       "  <tbody>\n",
       "    <tr>\n",
       "      <th>count</th>\n",
       "      <td>8.436000e+03</td>\n",
       "      <td>8.436000e+03</td>\n",
       "      <td>8.436000e+03</td>\n",
       "      <td>8.436000e+03</td>\n",
       "      <td>8.436000e+03</td>\n",
       "      <td>8.436000e+03</td>\n",
       "      <td>8.436000e+03</td>\n",
       "      <td>8.436000e+03</td>\n",
       "      <td>8.436000e+03</td>\n",
       "      <td>8.436000e+03</td>\n",
       "      <td>8.436000e+03</td>\n",
       "      <td>8.436000e+03</td>\n",
       "      <td>8.436000e+03</td>\n",
       "      <td>8.436000e+03</td>\n",
       "      <td>8.436000e+03</td>\n",
       "      <td>8.436000e+03</td>\n",
       "      <td>8.436000e+03</td>\n",
       "      <td>8.436000e+03</td>\n",
       "      <td>8.436000e+03</td>\n",
       "      <td>8.436000e+03</td>\n",
       "    </tr>\n",
       "    <tr>\n",
       "      <th>mean</th>\n",
       "      <td>5.471501e-01</td>\n",
       "      <td>3.051634e+00</td>\n",
       "      <td>3.484359e+00</td>\n",
       "      <td>6.063202e+00</td>\n",
       "      <td>1.588744e+00</td>\n",
       "      <td>4.714174e+00</td>\n",
       "      <td>3.498623e+00</td>\n",
       "      <td>3.197269e+00</td>\n",
       "      <td>9.025424e+00</td>\n",
       "      <td>3.971436e+00</td>\n",
       "      <td>4.135714e+00</td>\n",
       "      <td>5.106400e+00</td>\n",
       "      <td>6.148346e+00</td>\n",
       "      <td>7.967569e+00</td>\n",
       "      <td>2.223438e+00</td>\n",
       "      <td>3.841124e+00</td>\n",
       "      <td>2.423586e+00</td>\n",
       "      <td>7.707955e+00</td>\n",
       "      <td>2.933507e+00</td>\n",
       "      <td>2.435946e+00</td>\n",
       "    </tr>\n",
       "    <tr>\n",
       "      <th>std</th>\n",
       "      <td>3.385352e+00</td>\n",
       "      <td>3.273907e+01</td>\n",
       "      <td>1.395004e+01</td>\n",
       "      <td>5.447180e+01</td>\n",
       "      <td>8.535406e+00</td>\n",
       "      <td>5.848386e+01</td>\n",
       "      <td>2.311919e+01</td>\n",
       "      <td>3.816816e+01</td>\n",
       "      <td>4.745082e+01</td>\n",
       "      <td>4.688479e+01</td>\n",
       "      <td>3.747152e+01</td>\n",
       "      <td>1.436937e+01</td>\n",
       "      <td>3.330379e+01</td>\n",
       "      <td>4.265835e+01</td>\n",
       "      <td>1.450610e+01</td>\n",
       "      <td>2.895875e+01</td>\n",
       "      <td>1.265286e+01</td>\n",
       "      <td>4.759871e+01</td>\n",
       "      <td>1.698726e+01</td>\n",
       "      <td>1.196597e+01</td>\n",
       "    </tr>\n",
       "    <tr>\n",
       "      <th>min</th>\n",
       "      <td>1.597319e-104</td>\n",
       "      <td>1.499805e-64</td>\n",
       "      <td>2.283409e-41</td>\n",
       "      <td>2.574565e-48</td>\n",
       "      <td>1.424641e-46</td>\n",
       "      <td>6.421757e-42</td>\n",
       "      <td>7.729528e-58</td>\n",
       "      <td>5.199574e-45</td>\n",
       "      <td>3.909448e-58</td>\n",
       "      <td>1.252413e-46</td>\n",
       "      <td>3.031298e-46</td>\n",
       "      <td>4.955359e-35</td>\n",
       "      <td>8.941495e-52</td>\n",
       "      <td>8.910547e-51</td>\n",
       "      <td>7.926198e-48</td>\n",
       "      <td>5.087622e-36</td>\n",
       "      <td>1.952284e-44</td>\n",
       "      <td>1.530692e-47</td>\n",
       "      <td>2.152189e-52</td>\n",
       "      <td>3.697488e-46</td>\n",
       "    </tr>\n",
       "    <tr>\n",
       "      <th>25%</th>\n",
       "      <td>3.044793e-12</td>\n",
       "      <td>3.598298e-09</td>\n",
       "      <td>3.378743e-05</td>\n",
       "      <td>1.201825e-08</td>\n",
       "      <td>3.011830e-08</td>\n",
       "      <td>1.366616e-09</td>\n",
       "      <td>2.756400e-08</td>\n",
       "      <td>6.007037e-08</td>\n",
       "      <td>1.668659e-09</td>\n",
       "      <td>6.082836e-08</td>\n",
       "      <td>7.828453e-08</td>\n",
       "      <td>1.626424e-05</td>\n",
       "      <td>3.970701e-07</td>\n",
       "      <td>7.904697e-10</td>\n",
       "      <td>3.386629e-08</td>\n",
       "      <td>9.057622e-08</td>\n",
       "      <td>6.988085e-06</td>\n",
       "      <td>1.026285e-07</td>\n",
       "      <td>7.885705e-08</td>\n",
       "      <td>6.256643e-07</td>\n",
       "    </tr>\n",
       "    <tr>\n",
       "      <th>50%</th>\n",
       "      <td>6.551278e-06</td>\n",
       "      <td>1.126517e-04</td>\n",
       "      <td>5.044063e-02</td>\n",
       "      <td>2.146189e-04</td>\n",
       "      <td>1.222131e-03</td>\n",
       "      <td>3.069891e-05</td>\n",
       "      <td>7.030627e-04</td>\n",
       "      <td>4.680014e-04</td>\n",
       "      <td>2.755147e-04</td>\n",
       "      <td>8.091162e-04</td>\n",
       "      <td>1.514639e-03</td>\n",
       "      <td>7.038935e-02</td>\n",
       "      <td>1.401752e-02</td>\n",
       "      <td>4.323343e-05</td>\n",
       "      <td>9.168178e-04</td>\n",
       "      <td>6.880697e-04</td>\n",
       "      <td>8.692557e-03</td>\n",
       "      <td>1.010696e-03</td>\n",
       "      <td>6.310562e-04</td>\n",
       "      <td>3.135198e-03</td>\n",
       "    </tr>\n",
       "    <tr>\n",
       "      <th>75%</th>\n",
       "      <td>8.757844e-02</td>\n",
       "      <td>3.076373e-01</td>\n",
       "      <td>2.419963e+00</td>\n",
       "      <td>4.076709e-01</td>\n",
       "      <td>6.175326e-01</td>\n",
       "      <td>2.926636e-01</td>\n",
       "      <td>6.150157e-01</td>\n",
       "      <td>4.197178e-01</td>\n",
       "      <td>1.316401e+00</td>\n",
       "      <td>4.839736e-01</td>\n",
       "      <td>1.005392e+00</td>\n",
       "      <td>4.000623e+00</td>\n",
       "      <td>2.936890e+00</td>\n",
       "      <td>2.251826e-01</td>\n",
       "      <td>6.559015e-01</td>\n",
       "      <td>7.754564e-01</td>\n",
       "      <td>8.056335e-01</td>\n",
       "      <td>7.992997e-01</td>\n",
       "      <td>4.895069e-01</td>\n",
       "      <td>7.368032e-01</td>\n",
       "    </tr>\n",
       "    <tr>\n",
       "      <th>max</th>\n",
       "      <td>5.910469e+01</td>\n",
       "      <td>1.979114e+03</td>\n",
       "      <td>4.983337e+02</td>\n",
       "      <td>4.330662e+03</td>\n",
       "      <td>4.576134e+02</td>\n",
       "      <td>2.672707e+03</td>\n",
       "      <td>1.214134e+03</td>\n",
       "      <td>1.810811e+03</td>\n",
       "      <td>2.123688e+03</td>\n",
       "      <td>3.820906e+03</td>\n",
       "      <td>1.707059e+03</td>\n",
       "      <td>3.754925e+02</td>\n",
       "      <td>1.355369e+03</td>\n",
       "      <td>1.544026e+03</td>\n",
       "      <td>7.076960e+02</td>\n",
       "      <td>1.220335e+03</td>\n",
       "      <td>3.284379e+02</td>\n",
       "      <td>1.209684e+03</td>\n",
       "      <td>6.156151e+02</td>\n",
       "      <td>6.146467e+02</td>\n",
       "    </tr>\n",
       "  </tbody>\n",
       "</table>\n",
       "</div>"
      ],
      "text/plain": [
       "                  0             1             2             3             4   \\\n",
       "count   8.436000e+03  8.436000e+03  8.436000e+03  8.436000e+03  8.436000e+03   \n",
       "mean    5.471501e-01  3.051634e+00  3.484359e+00  6.063202e+00  1.588744e+00   \n",
       "std     3.385352e+00  3.273907e+01  1.395004e+01  5.447180e+01  8.535406e+00   \n",
       "min    1.597319e-104  1.499805e-64  2.283409e-41  2.574565e-48  1.424641e-46   \n",
       "25%     3.044793e-12  3.598298e-09  3.378743e-05  1.201825e-08  3.011830e-08   \n",
       "50%     6.551278e-06  1.126517e-04  5.044063e-02  2.146189e-04  1.222131e-03   \n",
       "75%     8.757844e-02  3.076373e-01  2.419963e+00  4.076709e-01  6.175326e-01   \n",
       "max     5.910469e+01  1.979114e+03  4.983337e+02  4.330662e+03  4.576134e+02   \n",
       "\n",
       "                 5             6             7             8             9   \\\n",
       "count  8.436000e+03  8.436000e+03  8.436000e+03  8.436000e+03  8.436000e+03   \n",
       "mean   4.714174e+00  3.498623e+00  3.197269e+00  9.025424e+00  3.971436e+00   \n",
       "std    5.848386e+01  2.311919e+01  3.816816e+01  4.745082e+01  4.688479e+01   \n",
       "min    6.421757e-42  7.729528e-58  5.199574e-45  3.909448e-58  1.252413e-46   \n",
       "25%    1.366616e-09  2.756400e-08  6.007037e-08  1.668659e-09  6.082836e-08   \n",
       "50%    3.069891e-05  7.030627e-04  4.680014e-04  2.755147e-04  8.091162e-04   \n",
       "75%    2.926636e-01  6.150157e-01  4.197178e-01  1.316401e+00  4.839736e-01   \n",
       "max    2.672707e+03  1.214134e+03  1.810811e+03  2.123688e+03  3.820906e+03   \n",
       "\n",
       "                 10            11            12            13            14  \\\n",
       "count  8.436000e+03  8.436000e+03  8.436000e+03  8.436000e+03  8.436000e+03   \n",
       "mean   4.135714e+00  5.106400e+00  6.148346e+00  7.967569e+00  2.223438e+00   \n",
       "std    3.747152e+01  1.436937e+01  3.330379e+01  4.265835e+01  1.450610e+01   \n",
       "min    3.031298e-46  4.955359e-35  8.941495e-52  8.910547e-51  7.926198e-48   \n",
       "25%    7.828453e-08  1.626424e-05  3.970701e-07  7.904697e-10  3.386629e-08   \n",
       "50%    1.514639e-03  7.038935e-02  1.401752e-02  4.323343e-05  9.168178e-04   \n",
       "75%    1.005392e+00  4.000623e+00  2.936890e+00  2.251826e-01  6.559015e-01   \n",
       "max    1.707059e+03  3.754925e+02  1.355369e+03  1.544026e+03  7.076960e+02   \n",
       "\n",
       "                 15            16            17            18            19  \n",
       "count  8.436000e+03  8.436000e+03  8.436000e+03  8.436000e+03  8.436000e+03  \n",
       "mean   3.841124e+00  2.423586e+00  7.707955e+00  2.933507e+00  2.435946e+00  \n",
       "std    2.895875e+01  1.265286e+01  4.759871e+01  1.698726e+01  1.196597e+01  \n",
       "min    5.087622e-36  1.952284e-44  1.530692e-47  2.152189e-52  3.697488e-46  \n",
       "25%    9.057622e-08  6.988085e-06  1.026285e-07  7.885705e-08  6.256643e-07  \n",
       "50%    6.880697e-04  8.692557e-03  1.010696e-03  6.310562e-04  3.135198e-03  \n",
       "75%    7.754564e-01  8.056335e-01  7.992997e-01  4.895069e-01  7.368032e-01  \n",
       "max    1.220335e+03  3.284379e+02  1.209684e+03  6.156151e+02  6.146467e+02  "
      ]
     },
     "execution_count": 298,
     "metadata": {},
     "output_type": "execute_result"
    }
   ],
   "source": [
    "import pandas as pd\n",
    "pd.DataFrame(W.T).describe()"
   ]
  },
  {
   "cell_type": "code",
   "execution_count": 297,
   "metadata": {},
   "outputs": [
    {
     "data": {
      "text/html": [
       "<div>\n",
       "<style scoped>\n",
       "    .dataframe tbody tr th:only-of-type {\n",
       "        vertical-align: middle;\n",
       "    }\n",
       "\n",
       "    .dataframe tbody tr th {\n",
       "        vertical-align: top;\n",
       "    }\n",
       "\n",
       "    .dataframe thead th {\n",
       "        text-align: right;\n",
       "    }\n",
       "</style>\n",
       "<table border=\"1\" class=\"dataframe\">\n",
       "  <thead>\n",
       "    <tr style=\"text-align: right;\">\n",
       "      <th></th>\n",
       "      <th>0</th>\n",
       "      <th>1</th>\n",
       "      <th>2</th>\n",
       "      <th>3</th>\n",
       "      <th>4</th>\n",
       "      <th>5</th>\n",
       "      <th>6</th>\n",
       "      <th>7</th>\n",
       "      <th>8</th>\n",
       "      <th>9</th>\n",
       "      <th>10</th>\n",
       "      <th>11</th>\n",
       "      <th>12</th>\n",
       "      <th>13</th>\n",
       "      <th>14</th>\n",
       "      <th>15</th>\n",
       "      <th>16</th>\n",
       "      <th>17</th>\n",
       "      <th>18</th>\n",
       "      <th>19</th>\n",
       "    </tr>\n",
       "  </thead>\n",
       "  <tbody>\n",
       "    <tr>\n",
       "      <th>count</th>\n",
       "      <td>2.761000e+03</td>\n",
       "      <td>2.761000e+03</td>\n",
       "      <td>2.761000e+03</td>\n",
       "      <td>2.761000e+03</td>\n",
       "      <td>2.761000e+03</td>\n",
       "      <td>2.761000e+03</td>\n",
       "      <td>2.761000e+03</td>\n",
       "      <td>2.761000e+03</td>\n",
       "      <td>2.761000e+03</td>\n",
       "      <td>2.761000e+03</td>\n",
       "      <td>2.761000e+03</td>\n",
       "      <td>2.761000e+03</td>\n",
       "      <td>2.761000e+03</td>\n",
       "      <td>2.761000e+03</td>\n",
       "      <td>2.761000e+03</td>\n",
       "      <td>2.761000e+03</td>\n",
       "      <td>2.761000e+03</td>\n",
       "      <td>2.761000e+03</td>\n",
       "      <td>2.761000e+03</td>\n",
       "      <td>2.761000e+03</td>\n",
       "    </tr>\n",
       "    <tr>\n",
       "      <th>mean</th>\n",
       "      <td>3.621876e-04</td>\n",
       "      <td>3.621876e-04</td>\n",
       "      <td>3.621876e-04</td>\n",
       "      <td>3.621876e-04</td>\n",
       "      <td>3.621876e-04</td>\n",
       "      <td>3.621876e-04</td>\n",
       "      <td>3.621876e-04</td>\n",
       "      <td>3.621876e-04</td>\n",
       "      <td>3.621876e-04</td>\n",
       "      <td>3.621876e-04</td>\n",
       "      <td>3.621876e-04</td>\n",
       "      <td>3.621876e-04</td>\n",
       "      <td>3.621876e-04</td>\n",
       "      <td>3.621876e-04</td>\n",
       "      <td>3.621876e-04</td>\n",
       "      <td>3.621876e-04</td>\n",
       "      <td>3.621876e-04</td>\n",
       "      <td>3.621876e-04</td>\n",
       "      <td>3.621876e-04</td>\n",
       "      <td>3.621876e-04</td>\n",
       "    </tr>\n",
       "    <tr>\n",
       "      <th>std</th>\n",
       "      <td>2.036189e-03</td>\n",
       "      <td>7.837456e-04</td>\n",
       "      <td>3.274230e-04</td>\n",
       "      <td>4.370639e-04</td>\n",
       "      <td>8.838006e-04</td>\n",
       "      <td>6.639434e-04</td>\n",
       "      <td>3.264598e-04</td>\n",
       "      <td>5.668133e-04</td>\n",
       "      <td>4.053473e-04</td>\n",
       "      <td>2.905446e-04</td>\n",
       "      <td>6.091802e-04</td>\n",
       "      <td>4.135710e-04</td>\n",
       "      <td>2.399097e-04</td>\n",
       "      <td>3.501778e-04</td>\n",
       "      <td>8.090655e-04</td>\n",
       "      <td>4.326779e-04</td>\n",
       "      <td>4.657129e-04</td>\n",
       "      <td>3.470701e-04</td>\n",
       "      <td>4.493669e-04</td>\n",
       "      <td>5.832277e-04</td>\n",
       "    </tr>\n",
       "    <tr>\n",
       "      <th>min</th>\n",
       "      <td>2.032245e-19</td>\n",
       "      <td>3.961115e-26</td>\n",
       "      <td>1.237032e-20</td>\n",
       "      <td>1.921557e-23</td>\n",
       "      <td>8.037292e-22</td>\n",
       "      <td>4.863507e-25</td>\n",
       "      <td>7.703712e-18</td>\n",
       "      <td>8.120043e-23</td>\n",
       "      <td>4.929756e-20</td>\n",
       "      <td>3.376593e-23</td>\n",
       "      <td>7.839522e-24</td>\n",
       "      <td>7.318293e-24</td>\n",
       "      <td>3.066519e-18</td>\n",
       "      <td>1.043174e-20</td>\n",
       "      <td>4.515134e-25</td>\n",
       "      <td>8.451254e-23</td>\n",
       "      <td>4.862229e-23</td>\n",
       "      <td>1.396692e-23</td>\n",
       "      <td>5.725130e-22</td>\n",
       "      <td>4.711818e-26</td>\n",
       "    </tr>\n",
       "    <tr>\n",
       "      <th>25%</th>\n",
       "      <td>8.578648e-09</td>\n",
       "      <td>1.697729e-06</td>\n",
       "      <td>1.580330e-04</td>\n",
       "      <td>1.228997e-04</td>\n",
       "      <td>3.818846e-06</td>\n",
       "      <td>2.431309e-05</td>\n",
       "      <td>1.570810e-04</td>\n",
       "      <td>3.960508e-05</td>\n",
       "      <td>8.310015e-05</td>\n",
       "      <td>1.849351e-04</td>\n",
       "      <td>2.169154e-05</td>\n",
       "      <td>8.603155e-05</td>\n",
       "      <td>2.092929e-04</td>\n",
       "      <td>1.321682e-04</td>\n",
       "      <td>1.894152e-06</td>\n",
       "      <td>9.796810e-05</td>\n",
       "      <td>8.781110e-05</td>\n",
       "      <td>1.652447e-04</td>\n",
       "      <td>1.070371e-04</td>\n",
       "      <td>3.186212e-05</td>\n",
       "    </tr>\n",
       "    <tr>\n",
       "      <th>50%</th>\n",
       "      <td>2.014500e-06</td>\n",
       "      <td>7.390245e-05</td>\n",
       "      <td>3.089573e-04</td>\n",
       "      <td>2.483803e-04</td>\n",
       "      <td>7.314130e-05</td>\n",
       "      <td>1.573889e-04</td>\n",
       "      <td>3.096308e-04</td>\n",
       "      <td>1.877893e-04</td>\n",
       "      <td>2.522517e-04</td>\n",
       "      <td>3.099042e-04</td>\n",
       "      <td>1.506078e-04</td>\n",
       "      <td>2.462461e-04</td>\n",
       "      <td>3.422866e-04</td>\n",
       "      <td>2.833347e-04</td>\n",
       "      <td>6.019635e-05</td>\n",
       "      <td>2.618398e-04</td>\n",
       "      <td>2.614620e-04</td>\n",
       "      <td>2.961945e-04</td>\n",
       "      <td>2.589118e-04</td>\n",
       "      <td>1.975807e-04</td>\n",
       "    </tr>\n",
       "    <tr>\n",
       "      <th>75%</th>\n",
       "      <td>1.321249e-04</td>\n",
       "      <td>4.151026e-04</td>\n",
       "      <td>4.900772e-04</td>\n",
       "      <td>4.247700e-04</td>\n",
       "      <td>3.784494e-04</td>\n",
       "      <td>4.376979e-04</td>\n",
       "      <td>4.750757e-04</td>\n",
       "      <td>4.567873e-04</td>\n",
       "      <td>4.970592e-04</td>\n",
       "      <td>4.496008e-04</td>\n",
       "      <td>4.394913e-04</td>\n",
       "      <td>4.928982e-04</td>\n",
       "      <td>4.821323e-04</td>\n",
       "      <td>4.776344e-04</td>\n",
       "      <td>4.035552e-04</td>\n",
       "      <td>4.751695e-04</td>\n",
       "      <td>5.053711e-04</td>\n",
       "      <td>4.496313e-04</td>\n",
       "      <td>4.827783e-04</td>\n",
       "      <td>4.895207e-04</td>\n",
       "    </tr>\n",
       "    <tr>\n",
       "      <th>max</th>\n",
       "      <td>3.002636e-02</td>\n",
       "      <td>1.596895e-02</td>\n",
       "      <td>8.589146e-03</td>\n",
       "      <td>4.188502e-03</td>\n",
       "      <td>2.609522e-02</td>\n",
       "      <td>1.323023e-02</td>\n",
       "      <td>6.483626e-03</td>\n",
       "      <td>1.267879e-02</td>\n",
       "      <td>3.757151e-03</td>\n",
       "      <td>5.011123e-03</td>\n",
       "      <td>9.002696e-03</td>\n",
       "      <td>6.410275e-03</td>\n",
       "      <td>3.513675e-03</td>\n",
       "      <td>3.172139e-03</td>\n",
       "      <td>1.775781e-02</td>\n",
       "      <td>1.033995e-02</td>\n",
       "      <td>1.193399e-02</td>\n",
       "      <td>4.241054e-03</td>\n",
       "      <td>1.260641e-02</td>\n",
       "      <td>1.205605e-02</td>\n",
       "    </tr>\n",
       "  </tbody>\n",
       "</table>\n",
       "</div>"
      ],
      "text/plain": [
       "                 0             1             2             3             4   \\\n",
       "count  2.761000e+03  2.761000e+03  2.761000e+03  2.761000e+03  2.761000e+03   \n",
       "mean   3.621876e-04  3.621876e-04  3.621876e-04  3.621876e-04  3.621876e-04   \n",
       "std    2.036189e-03  7.837456e-04  3.274230e-04  4.370639e-04  8.838006e-04   \n",
       "min    2.032245e-19  3.961115e-26  1.237032e-20  1.921557e-23  8.037292e-22   \n",
       "25%    8.578648e-09  1.697729e-06  1.580330e-04  1.228997e-04  3.818846e-06   \n",
       "50%    2.014500e-06  7.390245e-05  3.089573e-04  2.483803e-04  7.314130e-05   \n",
       "75%    1.321249e-04  4.151026e-04  4.900772e-04  4.247700e-04  3.784494e-04   \n",
       "max    3.002636e-02  1.596895e-02  8.589146e-03  4.188502e-03  2.609522e-02   \n",
       "\n",
       "                 5             6             7             8             9   \\\n",
       "count  2.761000e+03  2.761000e+03  2.761000e+03  2.761000e+03  2.761000e+03   \n",
       "mean   3.621876e-04  3.621876e-04  3.621876e-04  3.621876e-04  3.621876e-04   \n",
       "std    6.639434e-04  3.264598e-04  5.668133e-04  4.053473e-04  2.905446e-04   \n",
       "min    4.863507e-25  7.703712e-18  8.120043e-23  4.929756e-20  3.376593e-23   \n",
       "25%    2.431309e-05  1.570810e-04  3.960508e-05  8.310015e-05  1.849351e-04   \n",
       "50%    1.573889e-04  3.096308e-04  1.877893e-04  2.522517e-04  3.099042e-04   \n",
       "75%    4.376979e-04  4.750757e-04  4.567873e-04  4.970592e-04  4.496008e-04   \n",
       "max    1.323023e-02  6.483626e-03  1.267879e-02  3.757151e-03  5.011123e-03   \n",
       "\n",
       "                 10            11            12            13            14  \\\n",
       "count  2.761000e+03  2.761000e+03  2.761000e+03  2.761000e+03  2.761000e+03   \n",
       "mean   3.621876e-04  3.621876e-04  3.621876e-04  3.621876e-04  3.621876e-04   \n",
       "std    6.091802e-04  4.135710e-04  2.399097e-04  3.501778e-04  8.090655e-04   \n",
       "min    7.839522e-24  7.318293e-24  3.066519e-18  1.043174e-20  4.515134e-25   \n",
       "25%    2.169154e-05  8.603155e-05  2.092929e-04  1.321682e-04  1.894152e-06   \n",
       "50%    1.506078e-04  2.462461e-04  3.422866e-04  2.833347e-04  6.019635e-05   \n",
       "75%    4.394913e-04  4.928982e-04  4.821323e-04  4.776344e-04  4.035552e-04   \n",
       "max    9.002696e-03  6.410275e-03  3.513675e-03  3.172139e-03  1.775781e-02   \n",
       "\n",
       "                 15            16            17            18            19  \n",
       "count  2.761000e+03  2.761000e+03  2.761000e+03  2.761000e+03  2.761000e+03  \n",
       "mean   3.621876e-04  3.621876e-04  3.621876e-04  3.621876e-04  3.621876e-04  \n",
       "std    4.326779e-04  4.657129e-04  3.470701e-04  4.493669e-04  5.832277e-04  \n",
       "min    8.451254e-23  4.862229e-23  1.396692e-23  5.725130e-22  4.711818e-26  \n",
       "25%    9.796810e-05  8.781110e-05  1.652447e-04  1.070371e-04  3.186212e-05  \n",
       "50%    2.618398e-04  2.614620e-04  2.961945e-04  2.589118e-04  1.975807e-04  \n",
       "75%    4.751695e-04  5.053711e-04  4.496313e-04  4.827783e-04  4.895207e-04  \n",
       "max    1.033995e-02  1.193399e-02  4.241054e-03  1.260641e-02  1.205605e-02  "
      ]
     },
     "execution_count": 297,
     "metadata": {},
     "output_type": "execute_result"
    }
   ],
   "source": [
    "pd.DataFrame(A).describe()"
   ]
  },
  {
   "cell_type": "code",
   "execution_count": 284,
   "metadata": {},
   "outputs": [
    {
     "data": {
      "text/plain": [
       "<matplotlib.axes._subplots.AxesSubplot at 0x7f311d7c6f28>"
      ]
     },
     "execution_count": 284,
     "metadata": {},
     "output_type": "execute_result"
    },
    {
     "data": {
      "image/png": "[encoded data removed]",
      "text/plain": [
       "<Figure size 720x288 with 1 Axes>"
      ]
     },
     "metadata": {},
     "output_type": "display_data"
    }
   ],
   "source": [
    "pd.Series(normalize(W, axis=0, norm='l1').flatten()).hist(bins=100, log=True, alpha=0.5, figsize=(10,4))\n",
    "pd.Series(normalize(W1, axis=1, norm='l1').flatten()).hist(bins=100, alpha=0.5)"
   ]
  },
  {
   "cell_type": "code",
   "execution_count": 286,
   "metadata": {},
   "outputs": [
    {
     "data": {
      "text/plain": [
       "<matplotlib.axes._subplots.AxesSubplot at 0x7f311e3fc550>"
      ]
     },
     "execution_count": 286,
     "metadata": {},
     "output_type": "execute_result"
    },
    {
     "data": {
      "image/png": "[encoded data removed]",
      "text/plain": [
       "<Figure size 720x288 with 1 Axes>"
      ]
     },
     "metadata": {},
     "output_type": "display_data"
    }
   ],
   "source": [
    "pd.Series(A.flatten()).hist(bins=100, log=True, alpha=0.5, figsize=(10,4))\n",
    "pd.Series(normalize(H1, axis=1, norm='l1').flatten()).hist(bins=100, alpha=0.5)"
   ]
  },
  {
   "cell_type": "code",
   "execution_count": null,
   "metadata": {},
   "outputs": [],
   "source": []
  }
 ],
 "metadata": {
  "kernelspec": {
   "display_name": "Python 3",
   "language": "python",
   "name": "python3"
  },
  "language_info": {
   "codemirror_mode": {
    "name": "ipython",
    "version": 3
   },
   "file_extension": ".py",
   "mimetype": "text/x-python",
   "name": "python",
   "nbconvert_exporter": "python",
   "pygments_lexer": "ipython3",
   "version": "3.6.5"
  }
 },
 "nbformat": 4,
 "nbformat_minor": 2
}
